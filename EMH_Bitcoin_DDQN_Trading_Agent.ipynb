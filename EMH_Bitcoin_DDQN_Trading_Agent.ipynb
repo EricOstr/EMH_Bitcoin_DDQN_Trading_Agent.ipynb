{
  "nbformat": 4,
  "nbformat_minor": 0,
  "metadata": {
    "accelerator": "GPU",
    "colab": {
      "name": "EMH_Bitcoin_DDQN_Trading_Agent.ipynb",
      "provenance": [],
      "collapsed_sections": []
    },
    "kernelspec": {
      "display_name": "Python 3",
      "name": "python3"
    },
    "toc": {
      "base_numbering": 1,
      "nav_menu": {},
      "number_sections": true,
      "sideBar": true,
      "skip_h1_title": true,
      "title_cell": "Table of Contents",
      "title_sidebar": "Contents",
      "toc_cell": false,
      "toc_position": {
        "height": "calc(100% - 180px)",
        "left": "10px",
        "top": "150px",
        "width": "230.906px"
      },
      "toc_section_display": true,
      "toc_window_display": true
    }
  },
  "cells": [
    {
      "cell_type": "markdown",
      "metadata": {
        "id": "dcBH6qijDupS"
      },
      "source": [
        "# Testing the Efficient Market Hypothesis as Applied to Bitcoin by Designing a Double Deep Q-Learning Trading Agent"
      ]
    },
    {
      "cell_type": "markdown",
      "metadata": {
        "id": "Dtd5iE_KD8tV"
      },
      "source": [
        "## 1. Introduction"
      ]
    },
    {
      "cell_type": "markdown",
      "metadata": {
        "id": "mEH2JJ-TGnEz"
      },
      "source": [
        "The Efficient Market Hypothesis (EMH) stipulates that asset prices reflect all available information. Therefore, a direct implication of this is that it is impossible to beat the market consistently on a risk-adjusted basis. \n",
        "\n",
        "Markets are considered to be the most effective way of aggregating information disperesed within a society. Self interested traders are incentivised to acquire private information and act based on this to return a profit. In the competitive limit of such actions, traders contribute towards a more efficient price reflecting the available information. \n",
        "\n",
        "The Random Walk Hypothesis, which stipulates that successive prices changes are independent, identically distributed random variables, is often cited in support of the EMH. Indeed, Samuelson published a proof showing that if markets are efficient, then the price behaviour will demonstrate a random walk [1]. Eugene Fama demonstrates support for the random walk hypothesis by empirical tests using stock data from the Dow-Jones Industrial Average [2]. He explicitly notes, \"This implies, of course, that chart reading (technical analysis), though perhaps an interesting pastime, is of no real value to the stock market investor\".\n",
        "\n",
        "\n",
        "In Fama's later seminal review paper, he categorizes the efficient market hypothesis into a \"weak from\", \"semi-strong form\" and \"strong form\", with each category reflecting the level of information that assert prices reflect [3]. The weak from of the hypothesis is the most conservative and establishes that historical asset prices do not provide information of future price development, as the information is already taken into account in the current price for any instance. \n",
        "\n",
        "\n",
        "Some critics of the EMH attribute market imperfections to cognitive biases studied in behavioral economics, such as overreaction, overconfidence and representative biases. The weak form of the EMH is more likely to hold true in well established markets such as S&P 500, Dow-Jones Industrial Average stocks and major currency pairs, where sophisticated institutional investors dominate the majority of market volume and compete to exploit any useful pieces of informatiomn. However, in more nascent and retail driven markets, such as crypto currencies, even weaker forms of the EMH may not hold, as retail market participants are more inclined to commit classical behavioural biases in their trading activity. Of course, an algorithmic trading agent does not suffer from such biases and thus leaves the possibility of overperforming in these retail investor driven markets. Moreover, as Tshilidzi Marwala conjectures, the more artificial intelligence instilled trading agents there are in the market, the more efficient the market becomes [4]. By building a Double Deep Q-learning trading agent in the BTC/USD market, and investigating if consistent over-performing of the market is possible, we explore whether past returns can be used to predict future returns, and as such explore if the EMH does not apply for this largely retail investor driven market. \n",
        "\n",
        "Our research question has practical importance as some prevelant financial tools used for financial decision making (e.g. Capital Asset Pricing Model) rely on an assumption of efficient markets. Moreover, whether or not a market is efficient aids us in setting appropriate compensation levels for 'active portfolio' managers. For instance, assuming the stronger forms of the EMH, it seems inappropriate to reward a portfolio manager to outperform the market, as this would not be feasible. Furthermore, the degree to which the EMH holds can aid securities law enforcement by evaluating the likelihood of illegal activities, such as insider trading. For instance, under the semi-strong EMH, asset prices factor in all public information, but not private information. If a market is deemed semi-strong efficient, then the market's participants achieving consistent over-performance are perhaps acting with private information, which constitutes insider trading. Investigating the EMH for the BTC/USD market allows us to better understand when the hypothesis applies and fails, and for what reasons. These reasons may apply to other asset markets in varying degrees.\n",
        "\n",
        "\n",
        "Hourly Bitcoin price open, high, low, close and volume data for the period 17/08/2017 to 04/04/2021 is used to craft technical analysis indicators (e.g. lagged returns, moving averages, Relative Strength Index and Bollinger Bands) and split into a training and testing dataset. These historical data based indicators are often used by 'chartist' to descern optimal market conditions for placing positions. The indicators are calculated for each hourly time period and are presented as part of the environment of the Deep Q-Network of the agent.\n",
        "\n",
        "The environmnt is initialised to start at a random position in the training dataset time series. At each step, the environment proceeds an hour forward for 250 steps, reveals the next daily return and values of various technical indicators, and attributes a reward to the agent based on past decisions. Our agent may take one of three actions:\n",
        "\n",
        "1.   **Short position:** Bet Bitcoin's price (in USD) will fall\n",
        "2.   **Neutral position:** Hold USD only\n",
        "3.   **Long position:** Invest and bet Bitcoin's price will increase\n",
        "\n",
        "For each action, the agent will incur a trading cost defined as a percentage of the amount traded, as well as a holding cost for periods during which the agent holds a neutral position. These are implemeneted to mimick reality and to encourage the agent to take a stance on price movements (i.e. avoid neutral positions). The agent starts with capital, or Net Asset Value (NAV), of 1 unit and is benchmarked against a buy-and-hold strategy without holding costs reflecting the market and a random policy. The trading agent is based on and inspired by Stefan Jansen's Reinforcement Learning trading agent in his book \"Machine Learning for Algorithmic Trading\" [5].\n",
        "\n",
        "\n",
        "Next, we proceed to discuss the methodology adopoted, covering the construction of the environment, data pre-processing, trading logic implementation and trading agent construction. Subsequently, we train our agent for approximately five hours and evaluate the performance on a test dataset against a buy-and-hold strategy and a random policy. Lastly, we provide conculding remarks."
      ]
    },
    {
      "cell_type": "markdown",
      "metadata": {
        "id": "AHSpQVkrD9a6"
      },
      "source": [
        "## 2. Methodology"
      ]
    },
    {
      "cell_type": "markdown",
      "metadata": {
        "id": "jk6d89dFGw_U"
      },
      "source": [
        "Here, we discuss the methodology of implementing the Double Deep Q-learning trading agent used to investigate the applicability of the EMH in the BTC/USD market. The setup can be composed into two parts: constructing the environment and the trading agent.\n",
        "\n",
        "First in \"2.1 Imports and Configuration\" we install the necessary libraries, import the required packages and mount our google drive to acces the data, which is in csv format (See the Github repo for Binance_BTCUSD_1h.csv file). Secondly, within part \"2.2 Data Processing and Feature Extraction\" and \"2.3 Trading Logic and Environment\", we construct the environment. The environment is built using three different python classes: `DataSource`, `TradingLogic` and `TradingEnvironment`. After this, we construct our trading agent in \"2.4 Define Trading Agent\" within the class `TradingAgent`. We finally train it in part \"2.5 Train and Validate\".\n",
        "\n",
        "We choose to adopt a setup in which the environment is built using various interconnected classes, as opposed to one class, to provide a standardised environment that is modular. Such a structure may be easily extended by editing one of the modular pieces (e.g. the trading logic or the data pre-processing)."
      ]
    },
    {
      "cell_type": "markdown",
      "metadata": {
        "id": "VeD6e7g2GzuE"
      },
      "source": [
        "### 2.1 Imports and Configuration"
      ]
    },
    {
      "cell_type": "markdown",
      "metadata": {
        "id": "og2IWLKqCInV"
      },
      "source": [
        "Install and import the necessary packages."
      ]
    },
    {
      "cell_type": "code",
      "metadata": {
        "colab": {
          "base_uri": "https://localhost:8080/"
        },
        "id": "oN6c5N1Le2oB",
        "outputId": "8d1a95ab-4ba2-46d9-fab5-6a4de26a08db"
      },
      "source": [
        "!apt-get install -y xvfb python-opengl > /dev/null 2>&1\n",
        "!pip3 -q install gym\n",
        "!pip3 -q install pyglet\n",
        "!pip3 -q install pyopengl\n",
        "!pip3 -q install pyvirtualdisplay\n",
        "!apt install xvfb -y\n",
        "\n",
        "\n",
        "from time import time\n",
        "from collections import deque\n",
        "from random import sample\n",
        "\n",
        "import numpy as np\n",
        "import pandas as pd\n",
        "\n",
        "%matplotlib inline\n",
        "import matplotlib.pyplot as plt\n",
        "import matplotlib.ticker as mtick\n",
        "import seaborn as sns\n",
        "sns.set_style('whitegrid')\n",
        "\n",
        "import tensorflow as tf\n",
        "from tensorflow.keras import Sequential\n",
        "from tensorflow.keras.layers import Dense, Dropout, BatchNormalization\n",
        "from tensorflow.keras.optimizers import Adam\n",
        "from tensorflow.keras.regularizers import l2\n",
        "\n",
        "import gym\n",
        "from gym import spaces\n",
        "\n",
        "!pip install --upgrade ta\n",
        "import ta"
      ],
      "execution_count": null,
      "outputs": [
        {
          "output_type": "stream",
          "text": [
            "Reading package lists... Done\n",
            "Building dependency tree       \n",
            "Reading state information... Done\n",
            "xvfb is already the newest version (2:1.19.6-1ubuntu4.9).\n",
            "The following package was automatically installed and is no longer required:\n",
            "  libnvidia-common-460\n",
            "Use 'apt autoremove' to remove it.\n",
            "0 upgraded, 0 newly installed, 0 to remove and 34 not upgraded.\n",
            "Collecting ta\n",
            "  Downloading https://files.pythonhosted.org/packages/a9/22/a355ecf2d67da8150332d22ef65c3a1f79109528279bf5d40735b6f2bd72/ta-0.7.0.tar.gz\n",
            "Requirement already satisfied, skipping upgrade: numpy in /usr/local/lib/python3.7/dist-packages (from ta) (1.19.5)\n",
            "Requirement already satisfied, skipping upgrade: pandas in /usr/local/lib/python3.7/dist-packages (from ta) (1.1.5)\n",
            "Requirement already satisfied, skipping upgrade: python-dateutil>=2.7.3 in /usr/local/lib/python3.7/dist-packages (from pandas->ta) (2.8.1)\n",
            "Requirement already satisfied, skipping upgrade: pytz>=2017.2 in /usr/local/lib/python3.7/dist-packages (from pandas->ta) (2018.9)\n",
            "Requirement already satisfied, skipping upgrade: six>=1.5 in /usr/local/lib/python3.7/dist-packages (from python-dateutil>=2.7.3->pandas->ta) (1.15.0)\n",
            "Building wheels for collected packages: ta\n",
            "  Building wheel for ta (setup.py) ... \u001b[?25l\u001b[?25hdone\n",
            "  Created wheel for ta: filename=ta-0.7.0-cp37-none-any.whl size=28716 sha256=63f401c1af46453e1d32db77ef6722c7a0eec91648e792811eacdc3921e0513a\n",
            "  Stored in directory: /root/.cache/pip/wheels/dd/88/30/de9553fb54a474eb7480b937cdbb140bdda613d29cf4da7994\n",
            "Successfully built ta\n",
            "Installing collected packages: ta\n",
            "Successfully installed ta-0.7.0\n"
          ],
          "name": "stdout"
        }
      ]
    },
    {
      "cell_type": "markdown",
      "metadata": {
        "id": "Fdt6xY3hCNQg"
      },
      "source": [
        "Mount your google drive into the runtime's virtual machine. Be sure to have the dataset \"Binance_BTCUSD_1h.csv\" within the directory pointed by the variable `url` (the dataset \"Binance_BTCUSD_1h.csv\" provided in Github repo)."
      ]
    },
    {
      "cell_type": "code",
      "metadata": {
        "colab": {
          "base_uri": "https://localhost:8080/"
        },
        "id": "1dgRm-nOhifF",
        "outputId": "d40aa2e9-41fd-45fc-c818-e5a0b0b85ad8"
      },
      "source": [
        "from google.colab import drive\n",
        "drive.mount('/content/drive') # When prompted, enter your authorization code\n",
        "url = '/content/drive/MyDrive/Colab Notebooks' # save the Binance_BTCUSD_1h.csv file into the directory pointed by 'url' string"
      ],
      "execution_count": null,
      "outputs": [
        {
          "output_type": "stream",
          "text": [
            "Mounted at /content/drive\n"
          ],
          "name": "stdout"
        }
      ]
    },
    {
      "cell_type": "markdown",
      "metadata": {
        "id": "p2DSF42gHGPk"
      },
      "source": [
        "### 2.2 Data Processing and Feature Extraction"
      ]
    },
    {
      "cell_type": "markdown",
      "metadata": {
        "id": "XdgbWnuBHImg"
      },
      "source": [
        "The dataset used is the hourly time, price and volume data for Bitcoin with respect to USD for the time period 17/08/2017 to 04/04/2021 obtained from one of the world's largest Bitcoin exchanges, Binance. The dataset is downlaoded from Crypto Data Download [6]. We load the data, clean it, create additional technical indicator features and preprocess it within the python class `DataSource`. \n",
        "\n",
        "\n",
        "The imported raw data includes the following columns:\n",
        "\n",
        "**Unix Timestamp** - This is the unix timestamp\n",
        "\n",
        "**Date** - This timestamp is in NY EST Standard Time\n",
        "\n",
        "**Symbol** - The symbol for which the timeseries data refers to (BTC/USD)\n",
        "\n",
        "**Open** - Opening price of the time period\n",
        "\n",
        "**High** - Highest price of the time period\n",
        "\n",
        "**Low** - Lowest price of the time period\n",
        "\n",
        "**Close** - Closing price of the time period\n",
        "\n",
        "**Volume (Crypto)** - Volume in the transacted crypto currency\n",
        "\n",
        "**Volume Base Ccy** - Volume in the base currency (USD)\n",
        "\n",
        "**Trade Count** - This is the unique number of trades for the given time period\n",
        "\n",
        "For our purposes, we only extract the 'Date', 'Open', 'High', 'Low', 'Close', 'Volume Base Ccy'. \n",
        "\n",
        "\n",
        "From the data we notice that from the beginning to 2020/08/01 23:00:00 the unix timestamp is given in seconds. From 2020/08/01 23:00:00 to 2020/11/20 07:00:00 inclusive, the date is given in both unix seconds and milliseconds. After this, the timestamp is continually given in milliseconds. For consistency, we convert all unix time stamps into a datetime format of 'YYYY-MM-DD HH:MM:SS'. \n",
        "\n",
        "\n",
        "Next, we choose relevant financial technical indicators to include as new features. Technical indicators are heuristics or pattern-based signals produced by historical prices (open, high, low, close) and volume data, which is used by traders to forecast price behaviour. There exists a variety of technical indicators capturing price momentum, volume, volatility and trend charateristics. The benefit of including many technical indicators as features, and thus the enviroment, is that this allows our agent to gain a richer set of information of the past price behaviour. However, as many of these indicators are capturing similar characteristics of the price behaviour, albeit through different methods, including too many technical indicators will add noise to the observation space. Therefore, to enrich the observation space with informative signals and avoid excessive noise, we pick the least correlated indicators within their respective groups. \n",
        "\n",
        "\n",
        "Taking the log of Bitcoin's price, we see a linear trend indicating that the data is non-stationary. However, the hourly percentage price changes appear to be stationary, therfore we use the hourly changes in price instead (see figures in \"2.3.3 Initialize Trading Environment\"). We include the hourly changes in price as well as the chosen technical indicators as features within the environment used by the agent.\n",
        "\n",
        "Intrinsically ordered data, such as time series, can be problematic to cross-validate as there is a temporal dependence between observations that we must preserve. We split the time series data such that the chronologically earliest 70% is the training dataset and the last 30% is the test dataset."
      ]
    },
    {
      "cell_type": "markdown",
      "metadata": {
        "id": "FFcqrST0HLw5"
      },
      "source": [
        "#### 2.2.1 DataSource Class"
      ]
    },
    {
      "cell_type": "markdown",
      "metadata": {
        "id": "DhBtuV-kHRoe"
      },
      "source": [
        "The `DataSource` class implements the previously discussed data loading, cleaning and technical indicator feature construction. The class also maintains internal class variables representing where in the time-series data the environment is currently in. "
      ]
    },
    {
      "cell_type": "code",
      "metadata": {
        "id": "s3H9rYXSiFGi"
      },
      "source": [
        "class DataSource:\n",
        "    '''    \n",
        "    A class responsible for managing the data used for the environment.\n",
        "    Loads the data, cleans it, creates technical indicators and preprocesses the data.\n",
        "    Maintains the indices representing where in the time-series data the environment is currently in.\n",
        "    '''\n",
        "    def __init__(self, trading_hours=250):\n",
        "        self.trading_hours = trading_hours                                  # trading hours is also number of steps in an episode\n",
        "        self.train_proportion = 0.3                                         # train-test split proportion\n",
        "\n",
        "        self.data = self.load_data()                                        # loads data from csv format and does preliminary cleaning\n",
        "        self.indicators_list, self.indicators_df = self.get_indicators()    # returns a list of least correlated technical indicators and dataframe of all indicators\n",
        "        self.preprocess_data()                                              # convert to non-stationary data and include features\n",
        "        self.train_dataset, self.test_dataset = self.train_test_split()     # split time-series data to train and test\n",
        "\n",
        "        self.min_values = self.data.min()\n",
        "        self.max_values = self.data.max()\n",
        "\n",
        "        self.step = 0                                                       # used to keep track of position in time-series data in the environment\n",
        "        self.offset = None                                                  # used to initialise a new random position in training times-series data\n",
        "        \n",
        "\n",
        "    def load_data(self):\n",
        "        \"\"\"\n",
        "        Load raw data from csv format and do preliminary cleaning. \n",
        "        Return a df.\n",
        "        \"\"\"\n",
        "        col_names = ['unix','date','symbol','open','high','low','close','volume_btc', 'volume_usd', 'tradecount']\n",
        "        df = pd.read_csv(f'{url}/Binance_BTCUSD_1h.csv', header=1, names=col_names)\n",
        "        \n",
        "        # index where unix time stamp changes from 's' to 'ms'\n",
        "        k=3227                                                                                      \n",
        "        \n",
        "        # Data after the unix format reporting change\n",
        "        aft_k_cleaned_data = df.iloc[:k,:] \n",
        "        # Data before the unix format reporting change\n",
        "        bef_k_cleaned_data = df.iloc[k:,:][df.iloc[k:,:]['unix'] < 1e+10]                           # only select rows with unix time stamp given in seconds \n",
        "\n",
        "        aft_k_cleaned_data['date'] = pd.to_datetime(aft_k_cleaned_data['unix'], unit='ms')          # convert from unix ('ms') to datetime YYYY-MM-DD HH:MM:SS\n",
        "        bef_k_cleaned_data['date'] = pd.to_datetime(bef_k_cleaned_data['unix'],unit='s')            # convert from unix ('s') to datetime YYYY-MM-DD HH:MM:SS\n",
        "\n",
        "        columns = ['date', 'open', 'high', 'low', 'close', 'volume_usd']\n",
        "        data = pd.concat([aft_k_cleaned_data.loc[:,columns], bef_k_cleaned_data.loc[:,columns]])    # re-compile the data before and after unix time stamp change\n",
        "        data = data.sort_values('date', ascending=True).reset_index(drop=True)\n",
        "        data.set_index('date', inplace=True)\n",
        "\n",
        "        return data\n",
        "\n",
        "\n",
        "    def get_indicators(self):\n",
        "        '''\n",
        "        Find momentum, volume, trend and volatility indicators that are least correlated within their group.\n",
        "        Technical indicators are imported from ta library (https://technical-analysis-library-in-python.readthedocs.io/en/latest/ta.html).\n",
        "        We use the default parameter values of each technical indicator.\n",
        "        Return a list of indicators chosen and the data df with time series of all indicator values included.\n",
        "        '''\n",
        "        # Compile a df of various momentum based indicators\n",
        "        momentum_indicators = pd.DataFrame(\n",
        "            {\n",
        "                'RSI' : ta.momentum.RSIIndicator(self.data['close']).rsi(),\n",
        "                'TSI' : ta.momentum.TSIIndicator(self.data['close']).tsi(),\n",
        "                'UO' : ta.momentum.UltimateOscillator(self.data['high'], self.data['low'], self.data['close']).ultimate_oscillator(),\n",
        "                'Stoch' : ta.momentum.stoch(self.data['high'], self.data['low'], self.data['close']),\n",
        "                'Signal' : ta.momentum.stoch_signal(self.data['high'], self.data['low'], self.data['close']),\n",
        "                'WR' : ta.momentum.williams_r(self.data['high'], self.data['low'], self.data['close']),\n",
        "                'AO' : ta.momentum.AwesomeOscillatorIndicator(self.data['high'], self.data['low']).awesome_oscillator()\n",
        "            }\n",
        "            )\n",
        "\n",
        "        # Compile a df of various volume based indicators\n",
        "        volume_indicators = pd.DataFrame(\n",
        "            {\n",
        "                'ADI' : ta.volume.AccDistIndexIndicator(self.data['high'], self.data['low'], self.data['close'], self.data['volume_usd']).acc_dist_index(),\n",
        "                'OBV' : ta.volume.OnBalanceVolumeIndicator(self.data['close'], self.data['volume_usd']).on_balance_volume(),\n",
        "                'CMF' : ta.volume.chaikin_money_flow(self.data['high'], self.data['low'], self.data['close'], self.data['volume_usd']),\n",
        "                'FI' : ta.volume.ForceIndexIndicator(self.data['close'], self.data['volume_usd']).force_index(),\n",
        "                'EoM' : ta.volume.EaseOfMovementIndicator(self.data['high'], self.data['low'], self.data['volume_usd']).ease_of_movement(),\n",
        "                'VPT' : ta.volume.VolumePriceTrendIndicator(self.data['close'], self.data['volume_usd']).volume_price_trend(),\n",
        "                'NVI' : ta.volume.NegativeVolumeIndexIndicator(self.data['close'], self.data['volume_usd']).negative_volume_index()\n",
        "            }\n",
        "            )\n",
        "\n",
        "        # Compile a df of various trend based indicators\n",
        "        trend_indicators = pd.DataFrame(\n",
        "            {\n",
        "                'MACD' : ta.trend.MACD(self.data['close']).macd(),\n",
        "                'MACD_signal' : ta.trend.MACD(self.data['close']).macd_signal(),\n",
        "                'MACD_diff' : ta.trend.MACD(self.data['close']).macd_diff(),\n",
        "                'EMA' : ta.trend.EMAIndicator(self.data['close']).ema_indicator(),\n",
        "                'Vortex_pos' : ta.trend.VortexIndicator(self.data['high'],self.data['low'], self.data['close']).vortex_indicator_pos(),\n",
        "                'Vortex_neg' : ta.trend.VortexIndicator(self.data['high'],self.data['low'],self.data['close']).vortex_indicator_neg(),\n",
        "                'Vortex_diff' : ta.trend.VortexIndicator(self.data['high'],self.data['low'],self.data['close']).vortex_indicator_diff(),\n",
        "                'Trix' : ta.trend.TRIXIndicator(self.data['close']).trix(),\n",
        "                'CCI' : ta.trend.CCIIndicator(self.data['high'], self.data['low'], self.data['close']).cci(),\n",
        "                'DPO' : ta.trend.DPOIndicator(self.data['close']).dpo(),\n",
        "                'KST' : ta.trend.KSTIndicator(self.data['close']).kst(),\n",
        "                'KST_sig' : ta.trend.KSTIndicator(self.data['close']).kst_sig(),\n",
        "                'KST_diff' : ta.trend.KSTIndicator(self.data['close']).kst_diff(),\n",
        "                'Ichimoku_a' : ta.trend.IchimokuIndicator(self.data['high'], self.data['low']).ichimoku_a(),\n",
        "                'Ichimoku_b' : ta.trend.IchimokuIndicator(self.data['high'], self.data['low']).ichimoku_b(),\n",
        "                'Aaron_up' : ta.trend.AroonIndicator(self.data['close']).aroon_up(),\n",
        "                'Aroon_down' : ta.trend.AroonIndicator(self.data['close']).aroon_down(),\n",
        "                'Aroon_ind' : ta.trend.AroonIndicator(self.data['close']).aroon_indicator()\n",
        "            }\n",
        "            )\n",
        "\n",
        "\n",
        "        # Compile a df of various volatility based indicators\n",
        "        volatility_indicators = pd.DataFrame(\n",
        "            {\n",
        "                'ATR' : ta.volatility.AverageTrueRange(self.data['high'],self.data['low'],self.data['close']).average_true_range(),\n",
        "                'BBH' : ta.volatility.BollingerBands(self.data['close']).bollinger_hband(),\n",
        "                'BBL' : ta.volatility.BollingerBands(self.data['close']).bollinger_lband(),\n",
        "                'BBM' : ta.volatility.BollingerBands(self.data['close']).bollinger_mavg(),\n",
        "                'KCH' : ta.volatility.KeltnerChannel(self.data['high'],self.data['low'],self.data['close']).keltner_channel_hband(),\n",
        "                'KCL' : ta.volatility.KeltnerChannel(self.data['high'],self.data['low'],self.data['close']).keltner_channel_lband(),\n",
        "                'DCH' : ta.volatility.DonchianChannel(self.data['high'],self.data['low'],self.data['close']).donchian_channel_hband(),\n",
        "                'DCL' : ta.volatility.DonchianChannel(self.data['high'],self.data['low'],self.data['close']).donchian_channel_lband(),\n",
        "                'DCM' : ta.volatility.DonchianChannel(self.data['high'],self.data['low'],self.data['close']).donchian_channel_mband(),\n",
        "                'DCW' : ta.volatility.DonchianChannel(self.data['high'],self.data['low'],self.data['close']).donchian_channel_wband(),\n",
        "            }\n",
        "            )\n",
        "        \n",
        "        indicators = []\n",
        "        momentum_indicators_dict = {}\n",
        "        volume_indicators_dict = {}\n",
        "        trend_indicators_dict = {}\n",
        "        volatility_indicators_dict = {}\n",
        "\n",
        "        # For each indicator, find the mean absolute correlation of the indicator with the other indicators within it's group\n",
        "        for i, row in enumerate(momentum_indicators.corr().iterrows()):\n",
        "            momentum_indicators_dict[momentum_indicators.columns[i]] = np.mean(abs(momentum_indicators.corr().iloc[i,:]).drop(momentum_indicators.columns[i]))\n",
        "        for i, row in enumerate(volume_indicators.corr().iterrows()):\n",
        "            volume_indicators_dict[volume_indicators.columns[i]] = np.mean(abs(volume_indicators.corr().iloc[i,:]).drop(volume_indicators.columns[i]))\n",
        "        for i, row in enumerate(trend_indicators.corr().iterrows()):\n",
        "            trend_indicators_dict[trend_indicators.columns[i]] = np.mean(abs(trend_indicators.corr().iloc[i,:]).drop(trend_indicators.columns[i]))\n",
        "        for i, row in enumerate(volatility_indicators.corr().iterrows()):\n",
        "            volatility_indicators_dict[volatility_indicators.columns[i]] = np.mean(abs(volatility_indicators.corr().iloc[i,:]).drop(volatility_indicators.columns[i]))\n",
        "\n",
        "        # Select the two lowest correlated indicators from each group \n",
        "        indicators.extend(sorted(momentum_indicators_dict, key=lambda x: momentum_indicators_dict[x])[:2])\n",
        "        indicators.extend(sorted(volume_indicators_dict, key=lambda x: volume_indicators_dict[x])[:2])\n",
        "        indicators.extend(sorted(trend_indicators_dict, key=lambda x: trend_indicators_dict[x])[:2])\n",
        "        indicators.extend(sorted(volatility_indicators_dict, key=lambda x: volatility_indicators_dict[x])[:2])\n",
        "\n",
        "        # Time series df of all indicators (including the ones not selected)\n",
        "        all_indicators_df = pd.concat([momentum_indicators, volume_indicators, trend_indicators, volatility_indicators], axis=1)\n",
        "\n",
        "        return indicators, all_indicators_df\n",
        "\n",
        "\n",
        "    def preprocess_data(self):\n",
        "        '''\n",
        "        Calculate percentage change in price with various lags and chosen technical indicators.\n",
        "        Remove the original non-stationary features: open, high, low, close, volume_usd.\n",
        "        Return a df.\n",
        "        '''\n",
        "        # Calculate various lags\n",
        "        self.data['pct_change_1'] = self.data.close.pct_change()\n",
        "        self.data['pct_change_5'] = self.data.close.pct_change(5)\n",
        "        self.data['pct_change_10'] = self.data.close.pct_change(10)\n",
        "        self.data['pct_change_20'] = self.data.close.pct_change(20)\n",
        "\n",
        "        # Combine indicators previously chosen\n",
        "        for indicator in self.indicators_list:\n",
        "            self.data[indicator] = self.indicators_df[indicator]\n",
        "\n",
        "        self.data = (self.data.replace((np.inf, -np.inf), np.nan)\n",
        "                     .drop(['open', 'high', 'low', 'close', 'volume_usd'], axis=1)\n",
        "                     .dropna())\n",
        "        \n",
        "\n",
        "    def train_test_split(self):\n",
        "        \"\"\"\n",
        "        Split the whole data set into train and test sets according to 'train_proportion'\n",
        "        \"\"\"\n",
        "        train_dataset = self.data.iloc[:int(len(self.data)*(1-self.train_proportion)),]\n",
        "        test_dataset = self.data.iloc[int(len(self.data)*(1-self.train_proportion)):,]\n",
        "\n",
        "        return train_dataset, test_dataset\n",
        "\n",
        "\n",
        "    def reset(self):\n",
        "        \"\"\"\n",
        "        Get the starting index for the time-series and reset 'self.step'.\n",
        "        \"\"\"\n",
        "        high = len(self.train_dataset.index) - self.trading_hours\n",
        "        self.offset = np.random.randint(low=0, high=high)\n",
        "        self.step = 0\n",
        "\n",
        "\n",
        "    def take_step(self):\n",
        "        \"\"\"\n",
        "        Returns a row of data for the trading hour.\n",
        "        \"\"\"\n",
        "        obs = self.train_dataset.iloc[self.offset + self.step].values\n",
        "        self.step += 1\n",
        "        done = self.step > self.trading_hours\n",
        "        return obs, done \n",
        "\n",
        "\n",
        "    def take_step_test(self):\n",
        "        \"\"\"\n",
        "        Sames as function above, but accounts for the test dataset not requiring an 'offset'\n",
        "        \"\"\"\n",
        "        obs = self.test_dataset.iloc[self.step].values\n",
        "        self.step += 1\n",
        "        return obs, None"
      ],
      "execution_count": null,
      "outputs": []
    },
    {
      "cell_type": "markdown",
      "metadata": {
        "id": "EkZJGdWnHYJf"
      },
      "source": [
        "### 2.3 Trading Logic and Environment"
      ]
    },
    {
      "cell_type": "markdown",
      "metadata": {
        "id": "RdFOgtf_HZio"
      },
      "source": [
        "The `TradingLogic` class implements the trading simulator and keeps record of various variables as an episode progresses (e.g. Net Asset Value, numbe of trades, past returns). "
      ]
    },
    {
      "cell_type": "code",
      "metadata": {
        "id": "ethy1UM0hhSG"
      },
      "source": [
        "class TradingLogic:\n",
        "    \"\"\" \n",
        "    Implements core trading logic.\n",
        "    Keeps track of the Net Asset Value (NAV) and returns for the trading agent, market and random policy.\n",
        "    Records the actions and positions taken and transaction and holding costs incurred.\n",
        "    \"\"\"\n",
        "    def __init__(self, trading_hours, execution_cost, holding_cost, test_length, action_space):\n",
        "        \n",
        "        self.execution_cost = execution_cost    # cost of executing change (as a % of traded volume)\n",
        "        self.holding_cost = holding_cost        # cost for doing nothing in a step (% of NAV)\n",
        "        self.trading_hours = trading_hours      # length of an episode \n",
        "        self.test_length = test_length          # length of the test dataset\n",
        "        self.possible_actions = action_space    # use 'possible_actions' to sampel random policy\n",
        "\n",
        "        self.step = 0                                       # internal variable to keep track of process\n",
        "        self.agent_actions = np.zeros(self.trading_hours)   # records the agent's actions taken\n",
        "        self.random_actions = np.zeros(self.trading_hours)  # records the random policy's actions taken\n",
        "        self.agent_navs = np.ones(self.trading_hours)       # records trading agents NAV across steps\n",
        "        self.market_navs = np.ones(self.trading_hours)      # records markets NAV across steps as benchmark\n",
        "        self.random_navs = np.ones(self.trading_hours)      # records random policy NAV across steps as benchmark\n",
        "        self.agent_returns = np.ones(self.trading_hours)    # records returns realized by agent\n",
        "        self.market_returns = np.zeros(self.trading_hours)  # records returns realized by market\n",
        "        self.random_returns = np.zeros(self.trading_hours)  # records returns realized by random policy\n",
        "        self.agent_positions = np.zeros(self.trading_hours) # records positions held by agent across time steps\n",
        "        self.agent_costs = np.zeros(self.trading_hours)     # records costs (trading + holding) incurred by agent\n",
        "        self.agent_trades = np.zeros(self.trading_hours)    # records quantity traded by agent across time steps\n",
        "        self.random_positions = np.zeros(self.trading_hours)# records positions held by random policy across time steps\n",
        "        self.random_costs = np.zeros(self.trading_hours)    # records costs (trading + holding) incurred by random policy\n",
        "        self.random_trades = np.zeros(self.trading_hours)   # records quantity traded by random policy across time steps\n",
        "        self.agent_cumulative_rewards = np.zeros(self.trading_hours)   # records the cumulative rewards obtained across time steps\n",
        "\n",
        "    def reset(self, train=True):\n",
        "        '''\n",
        "        Resets all the internal recording variabls and 'self.step'\n",
        "        '''\n",
        "        if train:\n",
        "            self.step = 0\n",
        "            self.agent_actions.fill(0)\n",
        "            self.random_actions.fill(0)\n",
        "            self.agent_navs.fill(1)\n",
        "            self.random_navs.fill(1)\n",
        "            self.market_navs.fill(1)\n",
        "            self.random_navs.fill(1)\n",
        "            self.agent_returns.fill(0)\n",
        "            self.market_returns.fill(0)\n",
        "            self.random_returns.fill(0)\n",
        "            self.agent_positions.fill(0)\n",
        "            self.agent_costs.fill(0)\n",
        "            self.agent_trades.fill(0)\n",
        "            self.random_positions.fill(0)\n",
        "            self.random_costs.fill(0)\n",
        "            self.random_trades.fill(0)\n",
        "            self.agent_cumulative_rewards.fill(0)\n",
        "            \n",
        "        else:\n",
        "            # Re-initialize record keeping variables accounting for test dataset length\n",
        "            self.step = 0\n",
        "            self.agent_actions = np.zeros(self.test_length)\n",
        "            self.random_actions = np.zeros(self.test_length)\n",
        "            self.agent_navs = np.ones(self.test_length)\n",
        "            self.market_navs = np.ones(self.test_length)\n",
        "            self.random_navs = np.ones(self.test_length)\n",
        "            self.agent_returns = np.ones(self.test_length)\n",
        "            self.market_returns = np.zeros(self.test_length)\n",
        "            self.random_returns = np.zeros(self.test_length)\n",
        "            self.agent_positions = np.zeros(self.test_length)\n",
        "            self.agent_costs = np.zeros(self.test_length)\n",
        "            self.agent_trades = np.zeros(self.test_length)\n",
        "            self.random_positions = np.zeros(self.test_length)\n",
        "            self.random_costs = np.zeros(self.test_length)\n",
        "            self.random_trades = np.zeros(self.test_length)\n",
        "            self.agent_cumulative_rewards = np.zeros(self.test_length)\n",
        "            \n",
        "    def take_step(self, agent_action, market_return):\n",
        "        \"\"\" \n",
        "        Calculates NAVs, trading costs and reward based on actions and market information for the time step.\n",
        "        Action given as integer 0 to 2 (0 is 'Short', 1 is 'Neutral', 2 is 'Long').\n",
        "        Returns the reward.\n",
        "        \"\"\"\n",
        "        self.agent_actions[self.step] = agent_action\n",
        "        random_action = self.possible_actions.sample() # sample a random action\n",
        "        self.random_actions[self.step] = random_action\n",
        "        \n",
        "        self.market_returns[self.step] = market_return # record the observed market retunrs\n",
        "        \n",
        "        # Fetch the previous market positions\n",
        "        agent_initial_position = self.agent_positions[max(0, self.step - 1)] \n",
        "        random_initial_position = self.random_positions[max(0, self.step - 1)] \n",
        "        \n",
        "        # Retrieve initial NAVs for agent, market and random policy\n",
        "        initial_agent_nav = self.agent_navs[max(0, self.step - 1)]\n",
        "        initial_market_nav = self.market_navs[max(0, self.step - 1)]\n",
        "        initial_random_nav = self.random_navs[max(0, self.step - 1)]\n",
        "\n",
        "        # Re-scale actions from range 0 to 2 into range -1 to 1\n",
        "        agent_end_position = agent_action - 1   \n",
        "        random_end_position = random_action - 1 \n",
        "\n",
        "        # Find quantity traded\n",
        "        agent_quantity_traded = agent_end_position - agent_initial_position \n",
        "        random_quantity_traded = random_end_position - random_initial_position \n",
        "\n",
        "        # Record positions and quantity traded\n",
        "        self.agent_positions[self.step] = agent_end_position\n",
        "        self.agent_trades[self.step] = agent_quantity_traded\n",
        "        self.random_positions[self.step] = random_end_position\n",
        "        self.random_trades[self.step] = random_quantity_traded\n",
        "\n",
        "        # Assign trading and holding costs\n",
        "        agent_execution_costs = abs(agent_quantity_traded) * self.execution_cost\n",
        "        agent_holding_costs = 0 if agent_action != 0 else self.holding_cost     # penalize for neutral position\n",
        "        self.agent_costs[self.step] = agent_execution_costs + agent_holding_costs\n",
        "        random_execution_costs = abs(random_quantity_traded) * self.execution_cost\n",
        "        random_holding_costs = 0 if random_action != 0 else self.holding_cost   # penalize for neutral position\n",
        "        self.random_costs[self.step] = random_execution_costs + random_holding_costs\n",
        "\n",
        "        # Assign rewards for agent and random policy\n",
        "        agent_reward = agent_initial_position * market_return - self.agent_costs[self.step]                   # reward as a percentage\n",
        "        self.agent_returns[self.step] = agent_reward\n",
        "        self.agent_cumulative_rewards[self.step] = agent_reward + self.agent_cumulative_rewards[self.step-1]  # record cumulative rewards of agent\n",
        "        random_reward = random_initial_position * market_return - self.random_costs[self.step]                # reward as a percentage\n",
        "        self.random_returns[self.step] = random_reward\n",
        "\n",
        "        # Update NAVs (agent, market and random policy)\n",
        "        if self.step != 0:\n",
        "            self.agent_navs[self.step] = initial_agent_nav * (1 + self.agent_returns[self.step]) \n",
        "            self.market_navs[self.step] = initial_market_nav * (1 + self.market_returns[self.step])\n",
        "            self.random_navs[self.step] = initial_random_nav * (1 + self.random_returns[self.step]) \n",
        "\n",
        "        self.step += 1\n",
        "\n",
        "        return agent_reward\n",
        "\n",
        "    def result(self):\n",
        "        \"\"\"\n",
        "        Return all recording variables as a df.\n",
        "        \"\"\"\n",
        "        return pd.DataFrame({'agent_nav'                : self.agent_navs,  \n",
        "                             'agent_action'             : self.agent_actions, \n",
        "                             'agent_position'           : self.agent_positions,\n",
        "                             'agent_cost'               : self.agent_costs,  \n",
        "                             'agent_trade'              : self.agent_trades,\n",
        "                             'agent_cumulative_reward'  : self.agent_cumulative_rewards,\n",
        "                             'market_nav'               : self.market_navs,\n",
        "                             'market_return'            : self.market_returns,\n",
        "                             'random_nav'               : self.random_navs,  \n",
        "                             'random_action'            : self.random_actions, \n",
        "                             'random_position'          : self.random_positions,\n",
        "                             'random_cost'              : self.random_costs,  \n",
        "                             'random_trade'             : self.random_trades})"
      ],
      "execution_count": null,
      "outputs": []
    },
    {
      "cell_type": "markdown",
      "metadata": {
        "id": "v7YcqQ_FHgwy"
      },
      "source": [
        "#### 2.3.2 TradingEnvironment Class"
      ]
    },
    {
      "cell_type": "markdown",
      "metadata": {
        "id": "daWiCPpzHiZF"
      },
      "source": [
        "The `TradingEnvironment` class ties togeather the `DataSource` and `TradingLogic` class to produce a comprehensive enviornment for our reinforcement learning agent."
      ]
    },
    {
      "cell_type": "code",
      "metadata": {
        "id": "qtGvdGHN3ZkJ"
      },
      "source": [
        "class TradingEnvironment():\n",
        "    \"\"\"\n",
        "    A trading environment for trading Bitcoin with reinforcement learning.\n",
        "    This class combines the TradingLogic and DataSource class into an environment.\n",
        "    An episode is defined as 250 hours with random starts.\n",
        "    Each hour is a 'step' in which the trading agent chooses one of three actions:\n",
        "    - 0: SHORT\n",
        "    - 1: NEUTRAL\n",
        "    - 2: LONG\n",
        "    An episode starts with a Net Asset Value of 1 unit for the agent, market benchmark and random policy.\n",
        "    \"\"\"\n",
        "\n",
        "    def __init__(self,\n",
        "                 trading_hours=250,\n",
        "                 execution_cost=0.001,\n",
        "                 holding_cost=0.001):\n",
        "        \"\"\"\n",
        "        Initialise all internal variables including DataSource and TradingLogic.\n",
        "        Perform a reset(), which returns the first observation\n",
        "        \"\"\"\n",
        "        self.trading_hours = trading_hours\n",
        "        self.execution_cost = execution_cost\n",
        "        self.holding_cost = holding_cost\n",
        "\n",
        "        self.action_space = spaces.Discrete(3)\n",
        "\n",
        "        self.data_source = DataSource(trading_hours=self.trading_hours)\n",
        "        self.trading_logic = TradingLogic(trading_hours=self.trading_hours, \n",
        "                                          execution_cost=self.execution_cost, \n",
        "                                          holding_cost=self.holding_cost, \n",
        "                                          test_length=len(self.data_source.test_dataset), \n",
        "                                          action_space=self.action_space)\n",
        "        \n",
        "        self.observation_space = spaces.Box(self.data_source.min_values,\n",
        "                                            self.data_source.max_values)\n",
        "        self.max_episode_steps = trading_hours\n",
        "        self.reset()\n",
        "\n",
        "    def reset(self, train=True):\n",
        "        \"\"\"\n",
        "        Resets DataSource and TradingLogic.\n",
        "        Returns first observation\n",
        "        \"\"\"\n",
        "        self.data_source.reset()\n",
        "        self.trading_logic.reset(train)\n",
        "        if train: \n",
        "            return self.data_source.take_step()[0]\n",
        "        else:\n",
        "            return self.data_source.take_step_test()[0] \n",
        "\n",
        "\n",
        "    def step(self, action, train=True):\n",
        "        \"\"\"\n",
        "        Take a step in the environment. \n",
        "        Takes a step in the DataSource and TradingLogic classess too.\n",
        "        Returns observation, reward and done\n",
        "        \"\"\"\n",
        "        if train:\n",
        "            observation, done = self.data_source.take_step() \n",
        "        else:\n",
        "            observation, done = self.data_source.take_step_test() \n",
        "        reward = self.trading_logic.take_step(agent_action=action, market_return=observation[0])\n",
        "        return observation, reward, done"
      ],
      "execution_count": null,
      "outputs": []
    },
    {
      "cell_type": "markdown",
      "metadata": {
        "id": "Ntlq9_TLHowV"
      },
      "source": [
        "#### 2.3.3 Initialize Trading Environment"
      ]
    },
    {
      "cell_type": "code",
      "metadata": {
        "colab": {
          "base_uri": "https://localhost:8080/"
        },
        "id": "s0HMFbIGewkN",
        "outputId": "5fb792fe-a2e6-427d-b52e-346e8af59634"
      },
      "source": [
        "env = TradingEnvironment(trading_hours = 250, execution_cost = 0.001, holding_cost = 0.001)"
      ],
      "execution_count": null,
      "outputs": [
        {
          "output_type": "stream",
          "text": [
            "/usr/local/lib/python3.7/dist-packages/ipykernel_launcher.py:38: SettingWithCopyWarning: \n",
            "A value is trying to be set on a copy of a slice from a DataFrame.\n",
            "Try using .loc[row_indexer,col_indexer] = value instead\n",
            "\n",
            "See the caveats in the documentation: https://pandas.pydata.org/pandas-docs/stable/user_guide/indexing.html#returning-a-view-versus-a-copy\n",
            "/usr/local/lib/python3.7/dist-packages/gym/logger.py:30: UserWarning: \u001b[33mWARN: Box bound precision lowered by casting to float32\u001b[0m\n",
            "  warnings.warn(colorize('%s: %s'%('WARN', msg % args), 'yellow'))\n"
          ],
          "name": "stderr"
        }
      ]
    },
    {
      "cell_type": "code",
      "metadata": {
        "colab": {
          "base_uri": "https://localhost:8080/"
        },
        "id": "IHLz1zEjIhnA",
        "outputId": "3882c713-99ee-4c9f-a96c-3812d2049489"
      },
      "source": [
        "# List of the technical indicators chosen for the environment\n",
        "env.data_source.indicators_list"
      ],
      "execution_count": null,
      "outputs": [
        {
          "output_type": "execute_result",
          "data": {
            "text/plain": [
              "['AO', 'UO', 'EoM', 'CMF', 'Ichimoku_b', 'DPO', 'DCW', 'ATR']"
            ]
          },
          "metadata": {
            "tags": []
          },
          "execution_count": 7
        }
      ]
    },
    {
      "cell_type": "code",
      "metadata": {
        "colab": {
          "base_uri": "https://localhost:8080/",
          "height": 378
        },
        "id": "Z3RprP9sIjmM",
        "outputId": "6b1f5337-148b-4b40-dfba-a066195f6dbd"
      },
      "source": [
        "# Plot the log price of Bitcoin in USD\n",
        "ax = np.log(env.data_source.load_data()['close']).plot(title = 'Bitcoin Log Price', ylabel='Log Price (USD)', xlabel='Date')"
      ],
      "execution_count": null,
      "outputs": [
        {
          "output_type": "stream",
          "text": [
            "/usr/local/lib/python3.7/dist-packages/ipykernel_launcher.py:38: SettingWithCopyWarning: \n",
            "A value is trying to be set on a copy of a slice from a DataFrame.\n",
            "Try using .loc[row_indexer,col_indexer] = value instead\n",
            "\n",
            "See the caveats in the documentation: https://pandas.pydata.org/pandas-docs/stable/user_guide/indexing.html#returning-a-view-versus-a-copy\n"
          ],
          "name": "stderr"
        },
        {
          "output_type": "display_data",
          "data": {
            "image/png": "[encoded data removed]",
            "text/plain": [
              "<Figure size 432x288 with 1 Axes>"
            ]
          },
          "metadata": {
            "tags": []
          }
        }
      ]
    },
    {
      "cell_type": "code",
      "metadata": {
        "colab": {
          "base_uri": "https://localhost:8080/",
          "height": 293
        },
        "id": "H-H60GwrIkAT",
        "outputId": "a13b25ac-1c38-402f-e895-2f9e0dedd656"
      },
      "source": [
        "# Bitcoin hourly returns\n",
        "env.data_source.data['pct_change_1'].plot(title = 'Bitcoin Hourly Returns', ylabel='Hourly Return (%)', xlabel='Date');"
      ],
      "execution_count": null,
      "outputs": [
        {
          "output_type": "display_data",
          "data": {
            "image/png": "[encoded data removed]",
            "text/plain": [
              "<Figure size 432x288 with 1 Axes>"
            ]
          },
          "metadata": {
            "tags": []
          }
        }
      ]
    },
    {
      "cell_type": "code",
      "metadata": {
        "colab": {
          "base_uri": "https://localhost:8080/",
          "height": 281
        },
        "id": "OpvOtwgqIleg",
        "outputId": "0cb637d2-1413-4970-c269-ae820ad4168d"
      },
      "source": [
        "# Bitcoin hourly returns histogram\n",
        "env.data_source.data.pct_change_1.plot(kind='hist', bins=100, range=(-0.05, .05), title = 'Bitcoin Hourly Return', ylabel='Frequency', xlabel='Hourly Return (%)');"
      ],
      "execution_count": null,
      "outputs": [
        {
          "output_type": "display_data",
          "data": {
            "image/png": "[encoded data removed]",
            "text/plain": [
              "<Figure size 432x288 with 1 Axes>"
            ]
          },
          "metadata": {
            "tags": []
          }
        }
      ]
    },
    {
      "cell_type": "code",
      "metadata": {
        "id": "O2pyB3kiIm4H"
      },
      "source": [
        "# Get environment parameters\n",
        "state_dim = env.observation_space.shape[0]\n",
        "n_actions = env.action_space.n\n",
        "max_episode_steps = env.max_episode_steps"
      ],
      "execution_count": null,
      "outputs": []
    },
    {
      "cell_type": "code",
      "metadata": {
        "colab": {
          "base_uri": "https://localhost:8080/"
        },
        "id": "0RDeTBKnjuAN",
        "outputId": "08ea4030-2e11-42f0-d63d-e8531273619e"
      },
      "source": [
        "state_dim"
      ],
      "execution_count": null,
      "outputs": [
        {
          "output_type": "execute_result",
          "data": {
            "text/plain": [
              "12"
            ]
          },
          "metadata": {
            "tags": []
          },
          "execution_count": 12
        }
      ]
    },
    {
      "cell_type": "markdown",
      "metadata": {
        "id": "CWM7pLfzewkN"
      },
      "source": [
        "### 2.4 Define Trading Agent"
      ]
    },
    {
      "cell_type": "markdown",
      "metadata": {
        "id": "lH7PYqnRIuQv"
      },
      "source": [
        "Next, we provide a brief overview of the relevant theoretical content and construct the `TradingAgent` class.\n",
        "\n",
        "\n",
        "Q-learning was first developed by Chris Watkins for his PhD thesis and introduces incremental dynamic programming to learn to control an Markov Decision Process (MDP) [7]. The algorithm is model-free, as it does not model the transition and reward functions, and can handle problems with stochastic transitions and rewards. Q-learning learns the value of an action in a particular state and it finds an optimal policy which maximizes total expected reward over all successive steps from the current one. The algorithm proceeds off-policy, as it does not need to select actions based on the policy implied by the value function alone. Q-learning can identify an optimal policy for a given (MDP) provided a partly random policy and infinite exploration time. \n",
        "\n",
        "The Q-learning algorithm continually improves a state-action value function, $Q(s,a)$, for a given number of episodes. At each time step, it chooses an action based on a policy (we implement epsilon-greedy) and uses a learning rate to update the state-action value funtion. \n",
        "\n",
        "\n",
        "$Q(s,a) \\leftarrow Q(s,a) + \\alpha[R(s,a) +  \\gamma \\max_{a^\\prime} Q(s^\\prime,a^\\prime) - Q(s,a)]$\n",
        "\n",
        "\n",
        "The algorithm updates the state-action value based on the rewards observed ($R(s,a)$) for an action produced by our policy and the current estimate of the discounted values received by following an optimal policy thereafter (i.e. the value function for the next state). The parameters $\\gamma$ and $\\alpha$ are the discount and learning rates respectively. Q-learing thus is a bootstraping method as it uses an estimate of the state-action value function to improve the state-action value estimates. Q-learning is part of Temporal Difference Learning, a larger family of algorithms in which learning does not wait until the final reward for an episode is received. Instead, estimates are updated using intermediate states which are closer to the final reward.\n",
        "\n",
        "\n",
        "For our trading agent Q-learning implementation, we use an epsilon greedy policy to ensure continual exploration of new actions whilst also exploiting the learning experience. An epsilon greedy policy selects an action randomly with a probability epsilon and the action with the highest state-action value otherwise. The parameter epsilon is decreased each step to encourage more exploration in the beginning and more exploitation towards the end.\n",
        "\n",
        "\n",
        "Within a context of continuous states, we may approximate the optimal state-action value function using a neural network, which results in a Deep Q-network. The Deep Q-learning algorithm approximates the state-action value function by learning a set of weights $\\theta$ of a multilayered Deep Q-network (DQN) that maps a state to action values. DeepMind introduced this technique in Playing Atari with Deep Reinforcement Learning [8].\n",
        "\n",
        "The Deep Q-learning algorithm applies gradient descent on a loss function that computes the squared difference between the DQN's estimate of the target:\n",
        "\n",
        "$y = \\mathbf{E}[R(s,a) + \\gamma \\max_{a^\\prime} Q(s^\\prime,a^\\prime;\\theta|s,a)]$\n",
        "\n",
        "With the estimate of the state-action value of the current state action pair ($Q(s,a;\\theta$)) to learn the network parameters [5]:\n",
        "\n",
        "$L(\\theta)=(y-Q(s,a;\\theta))^2$\n",
        "\n",
        "Both the current state-action value estimate and target depend on the DQN weights. Rather than computing the full gradient, we use mini-batch gradient descent and update the weights $\\theta$ at each time step. \n",
        "\n",
        "\n",
        "The neural network architecture we consider is composed of 4 Dense layers of size 64, 64, 64 and an output layer of size 3, all with a rectified linear unit (ReLU) activation function. The first three input layers are followed by Batch Normalisation layers and the third layer is followed in addition with a Random Dropout layer. The input size to the neural network is 12, which represents the environment described by past lagged market returns and various technical indicator values for the current time step. The output of the DQN is a vector of length three representing the predicted state-action values for taking a short position, neutral position or a long position (represented by indeces 0,1,2 respectively).\n",
        "\n",
        "We use a ReLU activation function, which computes the activation as $g(z) = max(0,z)$ for a given activation $z$. The derivative is constant whenever the unit is active and allows us to overcome the vanishing gradient problem. \n",
        "\n",
        "\n",
        "Batch Normalization is used to speed up training time and prevent imbalanced weights in the network, which may contribute towards an exploding gradient. Batch Normalization is applied to layers in a network. It normalizes the output from the activation functions, multiplies the normalized output by an arbitrary parameter and adds another arbitrary parameter to the resulting product (both parameters are trainable and will be optimized during the training process).\n",
        "\n",
        "\n",
        "As mentioned, we additionally use Dropout as a regularization technique to prevent overfitting. The key idea is to randomly drop units with their connections from the neural network during training to prevent overfitting. \n",
        "\n",
        "\n",
        "For gradient descent we use the Adam (Adaptive moment estimation) optimizer algorithm. Adam computes adaptive learning rates for each parameter using an exponential moving average of the gradient and squared gradients. This realizes the benefit from Adagrad of maintaining a per-parameter learning rate, but further incorporates the ability for the algorithm to be adaptive based on recent weights. \n",
        "\n",
        "\n",
        "The deep reinforcement learning community has made several improvements to the DQN architecture to make the learning process more efficient and improve the final result [9]. We adopt experience replay and Double Deep Q-Learning.\n",
        "\n",
        "\n",
        "Experience replay saves the history of states, actions, rewards and next states observed throughout training and randomly samples mini-batches from this memory to train the weights $\\theta$ at each time step. This technqiue reduces autocorrelation of samples trained on and increases sample efficiency. \n",
        "\n",
        " \n",
        "Q-learning is known to overestimate the state-action values, which can negatively affect the learning process and the resulting policy [10]. The Double Deep Q-learning algorithm decouples the estimation of state-action values from the selection of actions. It maintains two separate DQNs with different sets of weights. The weights of one network (online network) are used to select the best action and the weights of the other network (target network) are used to provide a corresponding state-action value estimate:\n",
        "\n",
        "\n",
        "$y = \\mathbf{E}[R(s,a) + \\gamma Q(s^\\prime,argmax_{a^{\\prime}}Q(s^{\\prime}, a, \\theta);\\theta^\\prime)]$\n",
        "\n",
        "We maintain a separate online and target network mapping a state into action values for each action in a single forward pass."
      ]
    },
    {
      "cell_type": "markdown",
      "metadata": {
        "id": "d5iInVB3Izh1"
      },
      "source": [
        "We implement a Double Deep Q-learning trading agent in the class `TradingAgent` below, which incorporates the theory presented above."
      ]
    },
    {
      "cell_type": "code",
      "metadata": {
        "id": "nKVm5ZILewkO"
      },
      "source": [
        "class TradingAgent:\n",
        "    \"\"\"\n",
        "    Implementing the Double Deep Q-learning trading agent with experience replay.\n",
        "    \"\"\"\n",
        "    def __init__(self, state_dim,\n",
        "                 n_actions,\n",
        "                 learning_rate,\n",
        "                 discount_rate,\n",
        "                 eps_decay_episodes,\n",
        "                 memory_replay_capacity,\n",
        "                 nn_architecture,\n",
        "                 l2_param,\n",
        "                 tau,\n",
        "                 batch_size):\n",
        "\n",
        "        self.state_dim = state_dim                    # state of the environment\n",
        "        self.n_actions = n_actions                    # number of actions available \n",
        "        # Deques have O(1) speed for appendleft() and popleft() while lists have O(n) performance for insert(0, value) and pop(0)\n",
        "        self.experience = deque([], maxlen=memory_replay_capacity) # used to store the S,A,R,S_prime \n",
        "        self.learning_rate = learning_rate            # Rate at which state-action values are updated\n",
        "        self.discount_rate = discount_rate            # Rate at which future rewards are discounted\n",
        "        self.nn_architecture = nn_architecture        # The NN architecture given as a tuple of layer sizes\n",
        "        self.l2_param = l2_param                      # L2 regularizer\n",
        "\n",
        "        self.online_NN = self.construct_model()                 # neural network used to make action decisions\n",
        "        self.target_NN = self.construct_model(trainable=False)  # the other network used to perform double deep-q learning\n",
        "        self.update_target()\n",
        "\n",
        "        # Parameters for epsilon decay implementation\n",
        "        self.eps = 1\n",
        "        self.eps_start = 1.0\n",
        "        self.eps_end = 0.01\n",
        "        self.eps_decay_episodes = eps_decay_episodes\n",
        "        self.eps_decay = (self.eps_start - self.eps_end) / self.eps_decay_episodes\n",
        "        self.eps_exponential_decay = .99\n",
        "        self.eps_history = []\n",
        "\n",
        "        self.total_steps = 0 \n",
        "        self.episodes = 0\n",
        "\n",
        "        self.batch_size = batch_size                # batch size used to train neural network\n",
        "        self.tau = tau                              # frequency of updating target NN's weights to online NN's\n",
        "        self.idx = tf.range(batch_size)\n",
        "\n",
        "    def construct_model(self, trainable=True):\n",
        "        \"\"\"\n",
        "        Function used to build the neural networks (NN) for the online and target network.\n",
        "        returns a tf.keras.Model\n",
        "        \"\"\"\n",
        "        layers = []\n",
        "    \n",
        "        for i, units in enumerate(self.nn_architecture, 1):                     # NN architecture is given as a tuple of number of neurons in each layer\n",
        "            \n",
        "            layers.append(Dense(units=units,                                    # dimensionality of the output space\n",
        "                                input_dim=self.state_dim if i == 1 else None,   \n",
        "                                activation='relu',                              # use Rectified Linear Unit as activation function\n",
        "                                kernel_regularizer=l2(self.l2_param),           # adds the l2 regularization penalty to the loss wrt. the layer's weight\n",
        "                                trainable=trainable))    \n",
        "            layers.append(BatchNormalization())                                 # add a Batch Normalisation layer after each Dense layer\n",
        "\n",
        "        layers.append(Dropout(.1))                                              # add Random Dropout before the final output layer\n",
        "        layers.append(Dense(units=self.n_actions, trainable=trainable))         # final Dense layer representing state action values for each action\n",
        "        model = Sequential(layers)\n",
        "        model.compile(loss='mean_squared_error',\n",
        "                      optimizer=Adam(lr=self.learning_rate))                    # use mean squared error loss funciton and Adam optimizer\n",
        "        return model\n",
        "\n",
        "    def update_target(self):\n",
        "        # Set weights of target network to that of the online one\n",
        "        self.target_NN.set_weights(self.online_NN.get_weights())\n",
        "\n",
        "    def memorize_transition(self, s, a, r, s_prime, not_done):\n",
        "        \"\"\"\n",
        "        Implements epsilon decay and memorizes the transition\n",
        "        \"\"\"\n",
        "        self.experience.append((s, a, r, s_prime, not_done))                    # add to memory\n",
        "\n",
        "        if not not_done:\n",
        "            if self.episodes < self.eps_decay_episodes:                         # linearly decay epsilon during the first 'eps_decay_episodes' \n",
        "                self.eps -= self.eps_decay\n",
        "            else:                \n",
        "                self.eps *= self.eps_exponential_decay                          # after that, exponentially decay epsilon\n",
        "\n",
        "            self.episodes += 1\n",
        "\n",
        "    def experience_replay(self):\n",
        "        \"\"\"\n",
        "        Takes a random minibatch from memory and implements the Double Deep Q-learning algorithm.\n",
        "        Based on Stefan Jansen's Deep Reinforcement Learning Trading Agent (chp 22.) [5]\n",
        "        \"\"\"\n",
        "        if self.batch_size > len(self.experience):\n",
        "            return\n",
        "        # The map() function executes a specified function for each item in an iterable.\n",
        "        # we unpack the list with *\n",
        "        minibatch = map(np.array, zip(*sample(self.experience, self.batch_size)))   # returns a map function\n",
        "        states, actions, rewards, next_states, not_done = minibatch                 # use map function to get 4 np.arrays: one for 's', 'a', 'r', 's_prime'\n",
        "\n",
        "        # Find the optimal action in the next state using the online NN\n",
        "        next_q_val = self.online_NN.predict_on_batch(next_states)       # 'next_q_values' is an array of shape (4000, 3) representing q-values for each state given an action\n",
        "        best_actions = tf.argmax(next_q_val, axis=1)                    # 'best_actions' is a tf.Tensor of shape (4000,0) representing the action with highest q-value\n",
        "\n",
        "        # Find the q-value of the next state using the q-value given by the target network for the action previously chosen\n",
        "        next_q_val_target = self.target_NN.predict_on_batch(next_states)\n",
        "        target_q_val = tf.gather_nd(next_q_val_target,\n",
        "                                       tf.stack((self.idx, tf.cast(best_actions, tf.int32)), axis=1)) # 'target_q_val' is a tensor of shape (4000,)\n",
        "\n",
        "        targets = rewards + not_done * self.discount_rate * target_q_val # for final steps (when 'done'=True), the q-value is only the next reward\n",
        "\n",
        "        q_val = self.online_NN.predict_on_batch(states)\n",
        "        q_val[[self.idx, actions]] = targets\n",
        "\n",
        "        loss = self.online_NN.train_on_batch(x=states, y=q_val) # update weights\n",
        "\n",
        "        if self.total_steps % self.tau == 0:\n",
        "            self.update_target()                                # occasionally update the target_network parameters                            \n",
        "\n",
        "\n",
        "    def epsilon_greedy_policy(self, state):\n",
        "        '''\n",
        "        Returns action as a number 0 to 2.\n",
        "        '''\n",
        "        self.total_steps += 1\n",
        "        if np.random.rand() <= self.eps:\n",
        "            return np.random.choice(self.n_actions)     # with probability epsilon return a random action\n",
        "        else:\n",
        "            q = self.online_NN.predict(state)           # find Q-values for each action given the state\n",
        "            return np.argmax(q, axis=1).squeeze()       # return action with highest Q-value"
      ],
      "execution_count": null,
      "outputs": []
    },
    {
      "cell_type": "markdown",
      "metadata": {
        "id": "c1Zgw9qOI3lP"
      },
      "source": [
        "### 2.5 Train and Validate"
      ]
    },
    {
      "cell_type": "markdown",
      "metadata": {
        "id": "bKlXdGlYewkS"
      },
      "source": [
        "#### 2.5.1 Set Parameters"
      ]
    },
    {
      "cell_type": "code",
      "metadata": {
        "id": "JG1ivfAtewkV"
      },
      "source": [
        "# Simulation parameters\n",
        "total_steps = 0\n",
        "max_episodes = 1000\n",
        "\n",
        "# NN parameters\n",
        "nn_architecture = (64, 64, 64)  # units per layer\n",
        "learning_rate = 0.0001          # learning rate\n",
        "l2_param = 0.000006             # L2 regularization\n",
        "discount_rate = .99,            # discount factor\n",
        "tau = 100                       # target network update frequency (steps)\n",
        "\n",
        "# Experience Replay\n",
        "memory_replay_capacity = int(1000000)\n",
        "batch_size = 4000\n",
        "\n",
        "# Epsilon Greedy Policy\n",
        "eps_decay_episodes = int(max_episodes*0.8)"
      ],
      "execution_count": null,
      "outputs": []
    },
    {
      "cell_type": "markdown",
      "metadata": {
        "id": "aI9r91tiJSY_"
      },
      "source": [
        "#### 2.5.2 Helper Functions\n"
      ]
    },
    {
      "cell_type": "code",
      "metadata": {
        "id": "CZaNzDL2JS5n"
      },
      "source": [
        "def format_time(t):\n",
        "    '''This helper function is from Stefan Jansen's 'Machine Learning for Algorithmic Trading' [5]'''\n",
        "    m_, s = divmod(t, 60)\n",
        "    h, m = divmod(m_, 60)\n",
        "    return '{:02.0f}:{:02.0f}:{:02.0f}'.format(h, m, s)\n",
        "    \n",
        "    \n",
        "def track_results(episode, agent_nav_10, market_nav_10, win_ratio, total_time, eps):\n",
        "    ''' Print metrics of the training process '''\n",
        "    template = f'\\t\\t{episode}\\t | {format_time(total_time)}\\t | Agent (last 10 episode avg. NAV): {round((agent_nav_10-1)*100,1)}% \\t | Market (last 10 episode avg. NAV): {round((market_nav_10-1)*100,1)}% \\t | Win ratio (last 100): {round(win_ratio*100,1)}% \\t | Epsilon: {round(eps,2)}'\n",
        "    print(template)"
      ],
      "execution_count": null,
      "outputs": []
    },
    {
      "cell_type": "markdown",
      "metadata": {
        "id": "4y4sw4yIJVjn"
      },
      "source": [
        "#### 2.5.3 Model Training and Evaluation"
      ]
    },
    {
      "cell_type": "code",
      "metadata": {
        "colab": {
          "base_uri": "https://localhost:8080/"
        },
        "id": "Z-v_pPSkewkW",
        "outputId": "baa21e7b-bfb3-4e0f-c5b0-85339477308f"
      },
      "source": [
        "tf.keras.backend.clear_session()\n",
        "\n",
        "# Create the trading agent\n",
        "trading_agent = TradingAgent(state_dim=state_dim,\n",
        "                 n_actions=n_actions,\n",
        "                 learning_rate=learning_rate,\n",
        "                 discount_rate=discount_rate,\n",
        "                 eps_decay_episodes=eps_decay_episodes,\n",
        "                 memory_replay_capacity=memory_replay_capacity,\n",
        "                 nn_architecture=nn_architecture,\n",
        "                 l2_param=l2_param,\n",
        "                 tau=tau,\n",
        "                 batch_size=batch_size)\n",
        "\n",
        "trading_agent.online_NN.summary()"
      ],
      "execution_count": null,
      "outputs": [
        {
          "output_type": "stream",
          "text": [
            "Model: \"sequential\"\n",
            "_________________________________________________________________\n",
            "Layer (type)                 Output Shape              Param #   \n",
            "=================================================================\n",
            "dense (Dense)                (None, 64)                832       \n",
            "_________________________________________________________________\n",
            "batch_normalization (BatchNo (None, 64)                256       \n",
            "_________________________________________________________________\n",
            "dense_1 (Dense)              (None, 64)                4160      \n",
            "_________________________________________________________________\n",
            "batch_normalization_1 (Batch (None, 64)                256       \n",
            "_________________________________________________________________\n",
            "dense_2 (Dense)              (None, 64)                4160      \n",
            "_________________________________________________________________\n",
            "batch_normalization_2 (Batch (None, 64)                256       \n",
            "_________________________________________________________________\n",
            "dropout (Dropout)            (None, 64)                0         \n",
            "_________________________________________________________________\n",
            "dense_3 (Dense)              (None, 3)                 195       \n",
            "=================================================================\n",
            "Total params: 10,115\n",
            "Trainable params: 9,731\n",
            "Non-trainable params: 384\n",
            "_________________________________________________________________\n"
          ],
          "name": "stdout"
        }
      ]
    },
    {
      "cell_type": "markdown",
      "metadata": {
        "id": "fkDJMy-c8gDE"
      },
      "source": [
        "##### 2.5.3.1 Conduct Training with Agent and Random Policy"
      ]
    },
    {
      "cell_type": "code",
      "metadata": {
        "colab": {
          "background_save": true,
          "base_uri": "https://localhost:8080/"
        },
        "id": "kkMhsL8yewkX",
        "outputId": "3ee3c124-dc89-478f-c3db-bf95197eee34"
      },
      "source": [
        "# Initialize lists for recording simulation output\n",
        "agent_navs, agent_diffs, agent_cumulative_rewards = [], [], []\n",
        "random_navs, random_diffs = [], []\n",
        "market_navs = []\n",
        "\n",
        "start = time()\n",
        "\n",
        "for episode in range(1, max_episodes + 1):\n",
        "    this_state = env.reset()\n",
        "    for episode_step in range(max_episode_steps):\n",
        "        action = trading_agent.epsilon_greedy_policy(this_state.reshape(-1, state_dim))                 # implement epsilon greedy policy\n",
        "        next_state, reward, done  = env.step(action)                                                    # take step in environment\n",
        "    \n",
        "        trading_agent.memorize_transition(this_state, action, reward, next_state, 0.0 if done else 1.0) # memorize past scenario \n",
        "\n",
        "        trading_agent.experience_replay()                                                               # implement experience replay\n",
        "\n",
        "        if done:\n",
        "            break\n",
        "\n",
        "        this_state = next_state\n",
        "\n",
        "    result = env.trading_logic.result()     # returns a df of results at each time step\n",
        "    final = result.iloc[-1]                 # get the last row\n",
        "\n",
        "    # Record NAVs (market, agent, random policy) after episode\n",
        "    market_nav = final.market_nav\n",
        "    market_navs.append(market_nav)\n",
        "    agent_nav = final.agent_nav\n",
        "    agent_navs.append(agent_nav)\n",
        "    random_nav = final.random_nav\n",
        "    random_navs.append(random_nav)\n",
        "\n",
        "    # Record differences of performance of agent and random policy vs market after episode\n",
        "    agent_diff = agent_nav - market_nav\n",
        "    agent_diffs.append(agent_diff)\n",
        "    agent_cumulative_rewards.append(final.agent_cumulative_reward)      # Also record the return/ cumulative reward of episode\n",
        "    random_diff = random_nav - market_nav\n",
        "    random_diffs.append(random_diff)\n",
        "\n",
        "\n",
        "    if episode % 10 == 0:\n",
        "        track_results(episode, np.mean(agent_navs[-10:]), np.mean(market_navs[-10:]), np.sum([s > 0 for s in agent_diffs[-100:]])/min(len(agent_diffs), 100), time() - start, trading_agent.eps)\n",
        "\n",
        "\n",
        "# Store all recording variables\n",
        "train_results = pd.DataFrame({'Episode': list(range(1, episode+1)),\n",
        "                                    'Market': market_navs,\n",
        "                                    'Agent': agent_navs,\n",
        "                                    'Random_policy': random_navs,\n",
        "                                    'Agent_diff': agent_diffs,\n",
        "                                    'Random_diff': random_diffs,\n",
        "                                    'Agent_cum_rewards': agent_cumulative_rewards,\n",
        "                              }).set_index('Episode')\n",
        "\n",
        "# Also calculate win ratios\n",
        "train_results['Agent_win'] = (train_results.Agent_diff > 0).astype(int)\n",
        "train_results['Random_win'] = (train_results.Random_diff > 0).astype(int)"
      ],
      "execution_count": null,
      "outputs": [
        {
          "output_type": "stream",
          "text": [
            "\t\t10\t | 00:00:02\t | Agent (last 10 episode avg. NAV): -31.5% \t | Market (last 10 episode avg. NAV): 3.3% \t | Win ratio (last 100): 0.0% \t | Epsilon: 0.99\n"
          ],
          "name": "stdout"
        },
        {
          "output_type": "stream",
          "text": [
            "/usr/local/lib/python3.7/dist-packages/ipykernel_launcher.py:109: FutureWarning: Using a non-tuple sequence for multidimensional indexing is deprecated; use `arr[tuple(seq)]` instead of `arr[seq]`. In the future this will be interpreted as an array index, `arr[np.array(seq)]`, which will result either in an error or a different result.\n"
          ],
          "name": "stderr"
        },
        {
          "output_type": "stream",
          "text": [
            "\t\t20\t | 00:00:33\t | Agent (last 10 episode avg. NAV): -21.4% \t | Market (last 10 episode avg. NAV): 4.6% \t | Win ratio (last 100): 5.0% \t | Epsilon: 0.98\n",
            "\t\t30\t | 00:01:47\t | Agent (last 10 episode avg. NAV): -23.1% \t | Market (last 10 episode avg. NAV): 2.9% \t | Win ratio (last 100): 3.3% \t | Epsilon: 0.96\n",
            "\t\t40\t | 00:03:03\t | Agent (last 10 episode avg. NAV): -21.8% \t | Market (last 10 episode avg. NAV): -1.2% \t | Win ratio (last 100): 5.0% \t | Epsilon: 0.95\n",
            "\t\t50\t | 00:04:21\t | Agent (last 10 episode avg. NAV): -24.5% \t | Market (last 10 episode avg. NAV): 13.3% \t | Win ratio (last 100): 4.0% \t | Epsilon: 0.94\n",
            "\t\t60\t | 00:05:40\t | Agent (last 10 episode avg. NAV): -24.1% \t | Market (last 10 episode avg. NAV): 0.2% \t | Win ratio (last 100): 3.3% \t | Epsilon: 0.93\n",
            "\t\t70\t | 00:07:02\t | Agent (last 10 episode avg. NAV): -28.0% \t | Market (last 10 episode avg. NAV): -1.8% \t | Win ratio (last 100): 2.9% \t | Epsilon: 0.91\n",
            "\t\t80\t | 00:08:29\t | Agent (last 10 episode avg. NAV): -25.3% \t | Market (last 10 episode avg. NAV): -0.0% \t | Win ratio (last 100): 3.8% \t | Epsilon: 0.9\n",
            "\t\t90\t | 00:09:56\t | Agent (last 10 episode avg. NAV): -28.1% \t | Market (last 10 episode avg. NAV): 4.1% \t | Win ratio (last 100): 3.3% \t | Epsilon: 0.89\n",
            "\t\t100\t | 00:11:25\t | Agent (last 10 episode avg. NAV): -24.6% \t | Market (last 10 episode avg. NAV): 1.2% \t | Win ratio (last 100): 4.0% \t | Epsilon: 0.88\n",
            "\t\t110\t | 00:12:58\t | Agent (last 10 episode avg. NAV): -31.4% \t | Market (last 10 episode avg. NAV): 9.5% \t | Win ratio (last 100): 4.0% \t | Epsilon: 0.86\n",
            "\t\t120\t | 00:14:31\t | Agent (last 10 episode avg. NAV): -26.4% \t | Market (last 10 episode avg. NAV): 4.2% \t | Win ratio (last 100): 3.0% \t | Epsilon: 0.85\n",
            "\t\t130\t | 00:16:07\t | Agent (last 10 episode avg. NAV): -27.2% \t | Market (last 10 episode avg. NAV): 1.6% \t | Win ratio (last 100): 4.0% \t | Epsilon: 0.84\n",
            "\t\t140\t | 00:17:49\t | Agent (last 10 episode avg. NAV): -23.5% \t | Market (last 10 episode avg. NAV): 2.5% \t | Win ratio (last 100): 4.0% \t | Epsilon: 0.83\n",
            "\t\t150\t | 00:19:29\t | Agent (last 10 episode avg. NAV): -25.2% \t | Market (last 10 episode avg. NAV): 4.2% \t | Win ratio (last 100): 4.0% \t | Epsilon: 0.81\n",
            "\t\t160\t | 00:21:12\t | Agent (last 10 episode avg. NAV): -26.1% \t | Market (last 10 episode avg. NAV): 2.6% \t | Win ratio (last 100): 4.0% \t | Epsilon: 0.8\n",
            "\t\t170\t | 00:22:57\t | Agent (last 10 episode avg. NAV): -27.2% \t | Market (last 10 episode avg. NAV): 8.8% \t | Win ratio (last 100): 4.0% \t | Epsilon: 0.79\n",
            "\t\t180\t | 00:24:45\t | Agent (last 10 episode avg. NAV): -27.5% \t | Market (last 10 episode avg. NAV): 11.9% \t | Win ratio (last 100): 3.0% \t | Epsilon: 0.78\n",
            "\t\t190\t | 00:26:34\t | Agent (last 10 episode avg. NAV): -34.3% \t | Market (last 10 episode avg. NAV): 4.1% \t | Win ratio (last 100): 3.0% \t | Epsilon: 0.76\n",
            "\t\t200\t | 00:28:24\t | Agent (last 10 episode avg. NAV): -28.7% \t | Market (last 10 episode avg. NAV): -3.6% \t | Win ratio (last 100): 2.0% \t | Epsilon: 0.75\n",
            "\t\t210\t | 00:30:17\t | Agent (last 10 episode avg. NAV): -34.7% \t | Market (last 10 episode avg. NAV): 4.1% \t | Win ratio (last 100): 3.0% \t | Epsilon: 0.74\n",
            "\t\t220\t | 00:32:12\t | Agent (last 10 episode avg. NAV): -24.1% \t | Market (last 10 episode avg. NAV): 5.5% \t | Win ratio (last 100): 3.0% \t | Epsilon: 0.73\n",
            "\t\t230\t | 00:34:08\t | Agent (last 10 episode avg. NAV): -27.9% \t | Market (last 10 episode avg. NAV): 4.0% \t | Win ratio (last 100): 3.0% \t | Epsilon: 0.72\n",
            "\t\t240\t | 00:36:06\t | Agent (last 10 episode avg. NAV): -29.3% \t | Market (last 10 episode avg. NAV): -0.3% \t | Win ratio (last 100): 2.0% \t | Epsilon: 0.7\n",
            "\t\t250\t | 00:38:06\t | Agent (last 10 episode avg. NAV): -20.5% \t | Market (last 10 episode avg. NAV): 1.3% \t | Win ratio (last 100): 2.0% \t | Epsilon: 0.69\n",
            "\t\t260\t | 00:40:08\t | Agent (last 10 episode avg. NAV): -22.1% \t | Market (last 10 episode avg. NAV): 8.5% \t | Win ratio (last 100): 2.0% \t | Epsilon: 0.68\n",
            "\t\t270\t | 00:42:15\t | Agent (last 10 episode avg. NAV): -20.7% \t | Market (last 10 episode avg. NAV): 2.5% \t | Win ratio (last 100): 2.0% \t | Epsilon: 0.67\n",
            "\t\t280\t | 00:44:26\t | Agent (last 10 episode avg. NAV): -27.3% \t | Market (last 10 episode avg. NAV): -5.3% \t | Win ratio (last 100): 2.0% \t | Epsilon: 0.65\n",
            "\t\t290\t | 00:46:37\t | Agent (last 10 episode avg. NAV): -18.3% \t | Market (last 10 episode avg. NAV): 2.7% \t | Win ratio (last 100): 2.0% \t | Epsilon: 0.64\n",
            "\t\t300\t | 00:48:48\t | Agent (last 10 episode avg. NAV): -21.4% \t | Market (last 10 episode avg. NAV): -1.0% \t | Win ratio (last 100): 3.0% \t | Epsilon: 0.63\n",
            "\t\t310\t | 00:51:02\t | Agent (last 10 episode avg. NAV): -20.3% \t | Market (last 10 episode avg. NAV): 5.7% \t | Win ratio (last 100): 2.0% \t | Epsilon: 0.62\n",
            "\t\t320\t | 00:53:14\t | Agent (last 10 episode avg. NAV): -19.7% \t | Market (last 10 episode avg. NAV): 3.5% \t | Win ratio (last 100): 2.0% \t | Epsilon: 0.6\n",
            "\t\t330\t | 00:55:30\t | Agent (last 10 episode avg. NAV): -25.1% \t | Market (last 10 episode avg. NAV): -3.7% \t | Win ratio (last 100): 1.0% \t | Epsilon: 0.59\n",
            "\t\t340\t | 00:57:48\t | Agent (last 10 episode avg. NAV): -27.5% \t | Market (last 10 episode avg. NAV): 2.9% \t | Win ratio (last 100): 1.0% \t | Epsilon: 0.58\n",
            "\t\t350\t | 01:00:07\t | Agent (last 10 episode avg. NAV): -21.2% \t | Market (last 10 episode avg. NAV): 0.8% \t | Win ratio (last 100): 1.0% \t | Epsilon: 0.57\n",
            "\t\t360\t | 01:02:30\t | Agent (last 10 episode avg. NAV): -23.7% \t | Market (last 10 episode avg. NAV): -3.2% \t | Win ratio (last 100): 1.0% \t | Epsilon: 0.55\n",
            "\t\t370\t | 01:04:55\t | Agent (last 10 episode avg. NAV): -23.9% \t | Market (last 10 episode avg. NAV): -0.5% \t | Win ratio (last 100): 1.0% \t | Epsilon: 0.54\n",
            "\t\t380\t | 01:07:21\t | Agent (last 10 episode avg. NAV): -20.0% \t | Market (last 10 episode avg. NAV): 0.3% \t | Win ratio (last 100): 1.0% \t | Epsilon: 0.53\n",
            "\t\t390\t | 01:09:47\t | Agent (last 10 episode avg. NAV): -18.8% \t | Market (last 10 episode avg. NAV): -0.9% \t | Win ratio (last 100): 1.0% \t | Epsilon: 0.52\n",
            "\t\t400\t | 01:12:15\t | Agent (last 10 episode avg. NAV): -20.5% \t | Market (last 10 episode avg. NAV): 1.6% \t | Win ratio (last 100): 0.0% \t | Epsilon: 0.5\n",
            "\t\t410\t | 01:14:47\t | Agent (last 10 episode avg. NAV): -21.3% \t | Market (last 10 episode avg. NAV): 5.0% \t | Win ratio (last 100): 1.0% \t | Epsilon: 0.49\n",
            "\t\t420\t | 01:17:21\t | Agent (last 10 episode avg. NAV): -30.7% \t | Market (last 10 episode avg. NAV): 2.0% \t | Win ratio (last 100): 1.0% \t | Epsilon: 0.48\n",
            "\t\t430\t | 01:19:55\t | Agent (last 10 episode avg. NAV): -27.7% \t | Market (last 10 episode avg. NAV): -1.2% \t | Win ratio (last 100): 1.0% \t | Epsilon: 0.47\n",
            "\t\t440\t | 01:22:34\t | Agent (last 10 episode avg. NAV): -20.3% \t | Market (last 10 episode avg. NAV): -5.4% \t | Win ratio (last 100): 3.0% \t | Epsilon: 0.46\n",
            "\t\t450\t | 01:25:12\t | Agent (last 10 episode avg. NAV): -16.4% \t | Market (last 10 episode avg. NAV): 2.2% \t | Win ratio (last 100): 3.0% \t | Epsilon: 0.44\n",
            "\t\t460\t | 01:27:53\t | Agent (last 10 episode avg. NAV): -25.1% \t | Market (last 10 episode avg. NAV): -6.9% \t | Win ratio (last 100): 4.0% \t | Epsilon: 0.43\n",
            "\t\t470\t | 01:30:36\t | Agent (last 10 episode avg. NAV): -18.9% \t | Market (last 10 episode avg. NAV): -5.6% \t | Win ratio (last 100): 5.0% \t | Epsilon: 0.42\n",
            "\t\t480\t | 01:33:19\t | Agent (last 10 episode avg. NAV): -17.2% \t | Market (last 10 episode avg. NAV): 2.0% \t | Win ratio (last 100): 6.0% \t | Epsilon: 0.41\n",
            "\t\t490\t | 01:36:04\t | Agent (last 10 episode avg. NAV): -14.2% \t | Market (last 10 episode avg. NAV): 4.9% \t | Win ratio (last 100): 6.0% \t | Epsilon: 0.39\n",
            "\t\t500\t | 01:38:52\t | Agent (last 10 episode avg. NAV): -20.7% \t | Market (last 10 episode avg. NAV): 1.2% \t | Win ratio (last 100): 6.0% \t | Epsilon: 0.38\n",
            "\t\t510\t | 01:41:41\t | Agent (last 10 episode avg. NAV): -13.5% \t | Market (last 10 episode avg. NAV): 2.2% \t | Win ratio (last 100): 6.0% \t | Epsilon: 0.37\n",
            "\t\t520\t | 01:44:32\t | Agent (last 10 episode avg. NAV): -10.9% \t | Market (last 10 episode avg. NAV): 12.6% \t | Win ratio (last 100): 6.0% \t | Epsilon: 0.36\n",
            "\t\t530\t | 01:47:25\t | Agent (last 10 episode avg. NAV): -13.0% \t | Market (last 10 episode avg. NAV): -0.5% \t | Win ratio (last 100): 8.0% \t | Epsilon: 0.34\n",
            "\t\t540\t | 01:50:23\t | Agent (last 10 episode avg. NAV): -17.8% \t | Market (last 10 episode avg. NAV): 0.2% \t | Win ratio (last 100): 6.0% \t | Epsilon: 0.33\n",
            "\t\t550\t | 01:53:22\t | Agent (last 10 episode avg. NAV): -14.7% \t | Market (last 10 episode avg. NAV): -3.0% \t | Win ratio (last 100): 7.0% \t | Epsilon: 0.32\n",
            "\t\t560\t | 01:56:23\t | Agent (last 10 episode avg. NAV): -23.3% \t | Market (last 10 episode avg. NAV): -3.0% \t | Win ratio (last 100): 6.0% \t | Epsilon: 0.31\n",
            "\t\t570\t | 01:59:25\t | Agent (last 10 episode avg. NAV): -6.7% \t | Market (last 10 episode avg. NAV): 13.5% \t | Win ratio (last 100): 5.0% \t | Epsilon: 0.29\n",
            "\t\t580\t | 02:02:29\t | Agent (last 10 episode avg. NAV): -6.3% \t | Market (last 10 episode avg. NAV): 10.3% \t | Win ratio (last 100): 4.0% \t | Epsilon: 0.28\n",
            "\t\t590\t | 02:05:35\t | Agent (last 10 episode avg. NAV): -10.7% \t | Market (last 10 episode avg. NAV): 1.1% \t | Win ratio (last 100): 5.0% \t | Epsilon: 0.27\n",
            "\t\t600\t | 02:08:43\t | Agent (last 10 episode avg. NAV): -6.4% \t | Market (last 10 episode avg. NAV): 5.5% \t | Win ratio (last 100): 5.0% \t | Epsilon: 0.26\n",
            "\t\t610\t | 02:11:50\t | Agent (last 10 episode avg. NAV): 3.5% \t | Market (last 10 episode avg. NAV): 16.9% \t | Win ratio (last 100): 5.0% \t | Epsilon: 0.25\n",
            "\t\t620\t | 02:15:01\t | Agent (last 10 episode avg. NAV): -4.6% \t | Market (last 10 episode avg. NAV): 2.6% \t | Win ratio (last 100): 6.0% \t | Epsilon: 0.23\n",
            "\t\t630\t | 02:18:14\t | Agent (last 10 episode avg. NAV): -10.3% \t | Market (last 10 episode avg. NAV): -4.1% \t | Win ratio (last 100): 5.0% \t | Epsilon: 0.22\n",
            "\t\t640\t | 02:21:28\t | Agent (last 10 episode avg. NAV): -13.7% \t | Market (last 10 episode avg. NAV): -6.7% \t | Win ratio (last 100): 8.0% \t | Epsilon: 0.21\n",
            "\t\t650\t | 02:24:35\t | Agent (last 10 episode avg. NAV): -11.4% \t | Market (last 10 episode avg. NAV): -1.7% \t | Win ratio (last 100): 8.0% \t | Epsilon: 0.2\n",
            "\t\t660\t | 02:27:46\t | Agent (last 10 episode avg. NAV): -13.4% \t | Market (last 10 episode avg. NAV): -4.7% \t | Win ratio (last 100): 9.0% \t | Epsilon: 0.18\n",
            "\t\t670\t | 02:30:57\t | Agent (last 10 episode avg. NAV): -5.5% \t | Market (last 10 episode avg. NAV): 9.2% \t | Win ratio (last 100): 9.0% \t | Epsilon: 0.17\n",
            "\t\t680\t | 02:34:09\t | Agent (last 10 episode avg. NAV): -8.4% \t | Market (last 10 episode avg. NAV): 0.8% \t | Win ratio (last 100): 10.0% \t | Epsilon: 0.16\n",
            "\t\t690\t | 02:37:23\t | Agent (last 10 episode avg. NAV): -8.0% \t | Market (last 10 episode avg. NAV): 0.8% \t | Win ratio (last 100): 9.0% \t | Epsilon: 0.15\n",
            "\t\t700\t | 02:40:39\t | Agent (last 10 episode avg. NAV): -6.3% \t | Market (last 10 episode avg. NAV): -1.0% \t | Win ratio (last 100): 10.0% \t | Epsilon: 0.13\n",
            "\t\t710\t | 02:43:56\t | Agent (last 10 episode avg. NAV): -9.3% \t | Market (last 10 episode avg. NAV): -2.1% \t | Win ratio (last 100): 11.0% \t | Epsilon: 0.12\n",
            "\t\t720\t | 02:47:14\t | Agent (last 10 episode avg. NAV): -2.7% \t | Market (last 10 episode avg. NAV): 4.3% \t | Win ratio (last 100): 10.0% \t | Epsilon: 0.11\n",
            "\t\t730\t | 02:50:33\t | Agent (last 10 episode avg. NAV): -5.2% \t | Market (last 10 episode avg. NAV): -2.2% \t | Win ratio (last 100): 12.0% \t | Epsilon: 0.1\n",
            "\t\t740\t | 02:53:53\t | Agent (last 10 episode avg. NAV): -3.7% \t | Market (last 10 episode avg. NAV): 1.5% \t | Win ratio (last 100): 10.0% \t | Epsilon: 0.08\n",
            "\t\t750\t | 02:57:15\t | Agent (last 10 episode avg. NAV): -1.3% \t | Market (last 10 episode avg. NAV): 2.0% \t | Win ratio (last 100): 11.0% \t | Epsilon: 0.07\n",
            "\t\t760\t | 03:00:41\t | Agent (last 10 episode avg. NAV): 1.2% \t | Market (last 10 episode avg. NAV): 5.5% \t | Win ratio (last 100): 11.0% \t | Epsilon: 0.06\n",
            "\t\t770\t | 03:04:08\t | Agent (last 10 episode avg. NAV): 2.0% \t | Market (last 10 episode avg. NAV): 4.4% \t | Win ratio (last 100): 13.0% \t | Epsilon: 0.05\n",
            "\t\t780\t | 03:07:36\t | Agent (last 10 episode avg. NAV): -4.9% \t | Market (last 10 episode avg. NAV): -7.0% \t | Win ratio (last 100): 15.0% \t | Epsilon: 0.03\n",
            "\t\t790\t | 03:11:04\t | Agent (last 10 episode avg. NAV): 1.2% \t | Market (last 10 episode avg. NAV): 1.6% \t | Win ratio (last 100): 18.0% \t | Epsilon: 0.02\n",
            "\t\t800\t | 03:14:34\t | Agent (last 10 episode avg. NAV): 2.3% \t | Market (last 10 episode avg. NAV): 2.7% \t | Win ratio (last 100): 20.0% \t | Epsilon: 0.01\n",
            "\t\t810\t | 03:18:03\t | Agent (last 10 episode avg. NAV): -8.8% \t | Market (last 10 episode avg. NAV): -8.3% \t | Win ratio (last 100): 20.0% \t | Epsilon: 0.01\n",
            "\t\t820\t | 03:21:34\t | Agent (last 10 episode avg. NAV): -2.2% \t | Market (last 10 episode avg. NAV): -1.9% \t | Win ratio (last 100): 22.0% \t | Epsilon: 0.01\n",
            "\t\t830\t | 03:25:06\t | Agent (last 10 episode avg. NAV): -2.1% \t | Market (last 10 episode avg. NAV): -1.9% \t | Win ratio (last 100): 23.0% \t | Epsilon: 0.01\n",
            "\t\t840\t | 03:28:39\t | Agent (last 10 episode avg. NAV): 3.2% \t | Market (last 10 episode avg. NAV): 3.6% \t | Win ratio (last 100): 25.0% \t | Epsilon: 0.01\n",
            "\t\t850\t | 03:32:12\t | Agent (last 10 episode avg. NAV): -0.1% \t | Market (last 10 episode avg. NAV): 0.3% \t | Win ratio (last 100): 24.0% \t | Epsilon: 0.01\n",
            "\t\t860\t | 03:35:50\t | Agent (last 10 episode avg. NAV): 1.2% \t | Market (last 10 episode avg. NAV): 2.0% \t | Win ratio (last 100): 26.0% \t | Epsilon: 0.01\n",
            "\t\t870\t | 03:39:25\t | Agent (last 10 episode avg. NAV): 4.6% \t | Market (last 10 episode avg. NAV): 5.3% \t | Win ratio (last 100): 24.0% \t | Epsilon: 0.0\n",
            "\t\t880\t | 03:42:60\t | Agent (last 10 episode avg. NAV): 3.8% \t | Market (last 10 episode avg. NAV): 4.3% \t | Win ratio (last 100): 21.0% \t | Epsilon: 0.0\n",
            "\t\t890\t | 03:46:36\t | Agent (last 10 episode avg. NAV): -1.6% \t | Market (last 10 episode avg. NAV): -3.1% \t | Win ratio (last 100): 22.0% \t | Epsilon: 0.0\n",
            "\t\t900\t | 03:50:12\t | Agent (last 10 episode avg. NAV): -5.4% \t | Market (last 10 episode avg. NAV): -4.9% \t | Win ratio (last 100): 19.0% \t | Epsilon: 0.0\n",
            "\t\t910\t | 03:53:48\t | Agent (last 10 episode avg. NAV): 1.9% \t | Market (last 10 episode avg. NAV): 2.4% \t | Win ratio (last 100): 18.0% \t | Epsilon: 0.0\n",
            "\t\t920\t | 03:57:25\t | Agent (last 10 episode avg. NAV): 10.1% \t | Market (last 10 episode avg. NAV): 9.1% \t | Win ratio (last 100): 21.0% \t | Epsilon: 0.0\n",
            "\t\t930\t | 04:01:02\t | Agent (last 10 episode avg. NAV): -0.6% \t | Market (last 10 episode avg. NAV): -0.7% \t | Win ratio (last 100): 19.0% \t | Epsilon: 0.0\n",
            "\t\t940\t | 04:04:40\t | Agent (last 10 episode avg. NAV): 1.1% \t | Market (last 10 episode avg. NAV): 1.4% \t | Win ratio (last 100): 16.0% \t | Epsilon: 0.0\n",
            "\t\t950\t | 04:08:18\t | Agent (last 10 episode avg. NAV): 5.4% \t | Market (last 10 episode avg. NAV): 5.3% \t | Win ratio (last 100): 17.0% \t | Epsilon: 0.0\n",
            "\t\t960\t | 04:11:57\t | Agent (last 10 episode avg. NAV): 8.1% \t | Market (last 10 episode avg. NAV): 8.3% \t | Win ratio (last 100): 15.0% \t | Epsilon: 0.0\n",
            "\t\t970\t | 04:15:37\t | Agent (last 10 episode avg. NAV): -4.1% \t | Market (last 10 episode avg. NAV): -2.4% \t | Win ratio (last 100): 16.0% \t | Epsilon: 0.0\n",
            "\t\t980\t | 04:19:22\t | Agent (last 10 episode avg. NAV): 6.7% \t | Market (last 10 episode avg. NAV): 7.3% \t | Win ratio (last 100): 16.0% \t | Epsilon: 0.0\n",
            "\t\t990\t | 04:23:06\t | Agent (last 10 episode avg. NAV): 0.0% \t | Market (last 10 episode avg. NAV): 0.1% \t | Win ratio (last 100): 15.0% \t | Epsilon: 0.0\n",
            "\t\t1000\t | 04:26:48\t | Agent (last 10 episode avg. NAV): 6.9% \t | Market (last 10 episode avg. NAV): 6.4% \t | Win ratio (last 100): 17.0% \t | Epsilon: 0.0\n"
          ],
          "name": "stdout"
        }
      ]
    },
    {
      "cell_type": "markdown",
      "metadata": {
        "id": "A03UG7Jb8nm3"
      },
      "source": [
        "##### 2.5.3.2 Conduct Testing with Agent and Random Policy"
      ]
    },
    {
      "cell_type": "code",
      "metadata": {
        "id": "9bRi7IY4XNjp"
      },
      "source": [
        "this_state = env.reset(train=False)         # reset environment in test mode (train=False)\n",
        "\n",
        "for step in range(len(env.data_source.test_dataset)-1):\n",
        "    action = trading_agent.epsilon_greedy_policy(this_state.reshape(-1, state_dim))\n",
        "    next_state, reward, done = env.step(action, False)\n",
        "    this_state = next_state\n",
        "\n",
        "test_results = env.trading_logic.result()   # returns a df of results at each time step"
      ],
      "execution_count": null,
      "outputs": []
    },
    {
      "cell_type": "code",
      "metadata": {
        "id": "zZ6GyWcuewkY"
      },
      "source": [
        "# Record train and test output by saving results in csv format\n",
        "pd.DataFrame.from_dict(train_results).to_csv(f'{url}/Bitcoin_trading_DDQN_train_results.csv')\n",
        "pd.DataFrame.from_dict(test_results).to_csv(f'{url}/Bitcoin_trading_DDQN_test_results.csv')"
      ],
      "execution_count": null,
      "outputs": []
    },
    {
      "cell_type": "markdown",
      "metadata": {
        "id": "daSakcx8EAFZ"
      },
      "source": [
        "## 3. Results"
      ]
    },
    {
      "cell_type": "markdown",
      "metadata": {
        "id": "aPpcPGp35s4O"
      },
      "source": [
        "### 3.1 Performance on Training Dataset"
      ]
    },
    {
      "cell_type": "code",
      "metadata": {
        "id": "XvXtwZHeewkY",
        "colab": {
          "base_uri": "https://localhost:8080/",
          "height": 367
        },
        "outputId": "97285287-6bca-4388-b228-2b409685d8a0"
      },
      "source": [
        "sns.distplot(train_results.Agent_diff).set_title(\"Difference Between the Agent's NAV and the Market's after an epsiode\")"
      ],
      "execution_count": null,
      "outputs": [
        {
          "output_type": "stream",
          "text": [
            "/usr/local/lib/python3.7/dist-packages/seaborn/distributions.py:2557: FutureWarning: `distplot` is a deprecated function and will be removed in a future version. Please adapt your code to use either `displot` (a figure-level function with similar flexibility) or `histplot` (an axes-level function for histograms).\n",
            "  warnings.warn(msg, FutureWarning)\n"
          ],
          "name": "stderr"
        },
        {
          "output_type": "execute_result",
          "data": {
            "text/plain": [
              "Text(0.5, 1.0, \"Difference Between the Agent's NAV and the Market's after an epsiode\")"
            ]
          },
          "metadata": {
            "tags": []
          },
          "execution_count": 20
        },
        {
          "output_type": "display_data",
          "data": {
            "image/png": "[encoded data removed]",
            "text/plain": [
              "<Figure size 432x288 with 1 Axes>"
            ]
          },
          "metadata": {
            "tags": [],
            "needs_background": "light"
          }
        }
      ]
    },
    {
      "cell_type": "code",
      "metadata": {
        "id": "UudS20VlewkY",
        "colab": {
          "base_uri": "https://localhost:8080/",
          "height": 295
        },
        "outputId": "9444aa08-7db8-496f-d1c6-22c7e9ac764e"
      },
      "source": [
        "df1 = ((train_results[['Market', 'Agent','Random_policy']].sub(1)*100).rolling(200).mean())\n",
        "ax = df1.plot(title='Agent NAV per episode Compare to Market and Random Policy (MA 200)',lw=1)\n",
        "\n",
        "ax.yaxis.set_major_formatter(mtick.PercentFormatter())"
      ],
      "execution_count": null,
      "outputs": [
        {
          "output_type": "display_data",
          "data": {
            "image/png": "[encoded data removed]",
            "text/plain": [
              "<Figure size 432x288 with 1 Axes>"
            ]
          },
          "metadata": {
            "tags": [],
            "needs_background": "light"
          }
        }
      ]
    },
    {
      "cell_type": "code",
      "metadata": {
        "id": "C5UnvpbyN_lK",
        "colab": {
          "base_uri": "https://localhost:8080/",
          "height": 295
        },
        "outputId": "a2282e48-decb-4b80-b4fb-2a7242346c7b"
      },
      "source": [
        "ax = (train_results['Agent_cum_rewards']*100).rolling(100).mean().plot(title='Agent Cumulative Rewards (MA 100)',lw=1)\n",
        "ax.yaxis.set_major_formatter(mtick.PercentFormatter())"
      ],
      "execution_count": null,
      "outputs": [
        {
          "output_type": "display_data",
          "data": {
            "image/png": "[encoded data removed]",
            "text/plain": [
              "<Figure size 432x288 with 1 Axes>"
            ]
          },
          "metadata": {
            "tags": [],
            "needs_background": "light"
          }
        }
      ]
    },
    {
      "cell_type": "code",
      "metadata": {
        "id": "CVpkL9CDfmEk",
        "colab": {
          "base_uri": "https://localhost:8080/",
          "height": 295
        },
        "outputId": "3ddd7587-79f8-428d-ff93-c18bf0094bca"
      },
      "source": [
        "ax = (train_results[['Agent_win', 'Random_win']]*100).rolling(200).mean().plot(title='Win Ratios by Episode % (MA 200)',lw=1)\n",
        "ax.yaxis.set_major_formatter(mtick.PercentFormatter())"
      ],
      "execution_count": null,
      "outputs": [
        {
          "output_type": "display_data",
          "data": {
            "image/png": "[encoded data removed]",
            "text/plain": [
              "<Figure size 432x288 with 1 Axes>"
            ]
          },
          "metadata": {
            "tags": [],
            "needs_background": "light"
          }
        }
      ]
    },
    {
      "cell_type": "markdown",
      "metadata": {
        "id": "9qEvQLzdsqR_"
      },
      "source": [
        "From the above figures we see that the difference in NAV between the trading agent and the market buy-and-hold strategy after each episode whilst training is more often than not negative. However, the agent appears to often perform very close to the buy-and-hold strategy and sometimes over-performing it. The histogram of differences in NAV between the agent and the market are taken over all the episodes during training and therefore perhaps the density bars indicating zero difference or a slightly positive difference are contributed by the later episodes during training. Indeed, this hypothesis is supported by the figure plotting the 200 moving average returns of the market, trading agent and random policy across the episode iterations. Although the agent moving average never appears to consistently beat the market, it does learn to perform better throughout the episodes as noticed by increased NAV returns per episode. Towards the end, the agent even appears to perform on par with the market on average. This is contrary to the random policy, which of course maintains a fairly constant return per episode throughout the training process. Another metric indicating that the agent is learning to perform better on the training data is the win ratio of the agent compared to the market, benchmarked against the random policy's win ratio compared to the market. As expected, the win ratio of the agent against the market appears increasing throughout the episodes to a maximum of approximately 20% , unlike the random policy's win ratio which appears to stay flat at around 5%.\n",
        "\n",
        "These results suggests that the agent is training the DDQN to learn from the environment, consisting of lagged returns and technical indicators, to place trades. Furthermore, this may be more explicitly seen from the figure above plotting the 100 moving average agent return (i.e. cumulative reward) across the episodes. \n",
        "\n",
        "Even though the agent is not able to consistently beat the market, the above results are interesting as they suggest that the agent is at least learning to perform better on the training dataset throughout the episodes. However, it is unclear as to whether the learning agent is merely overfitting the training data and memorising previously instances of the market. To discern this, we turn to the test dataset, which contains the last 30% of the data ending on 04/04/2021."
      ]
    },
    {
      "cell_type": "markdown",
      "metadata": {
        "id": "pNFQB1E25jLR"
      },
      "source": [
        "### 3.2 Performance on Testing Dataset"
      ]
    },
    {
      "cell_type": "code",
      "metadata": {
        "id": "B02l5QkT4JMz",
        "colab": {
          "base_uri": "https://localhost:8080/",
          "height": 421
        },
        "outputId": "65301483-120c-4041-8473-99c262dffd2c"
      },
      "source": [
        "ax = test_results[['agent_nav','market_nav','random_nav']].iloc[:-1,:].plot(figsize=(12, 6), title='Net Asset Value of Market, Agent and Random Policy')\n",
        "ax.set_xlabel(\"Time\")\n",
        "ax.set_ylabel(\"Net Asset Value\")"
      ],
      "execution_count": null,
      "outputs": [
        {
          "output_type": "execute_result",
          "data": {
            "text/plain": [
              "Text(0, 0.5, 'Net Asset Value')"
            ]
          },
          "metadata": {
            "tags": []
          },
          "execution_count": 24
        },
        {
          "output_type": "display_data",
          "data": {
            "image/png": "[encoded data removed]",
            "text/plain": [
              "<Figure size 864x432 with 1 Axes>"
            ]
          },
          "metadata": {
            "tags": [],
            "needs_background": "light"
          }
        }
      ]
    },
    {
      "cell_type": "code",
      "metadata": {
        "id": "X-_3JuQ4naew",
        "colab": {
          "base_uri": "https://localhost:8080/"
        },
        "outputId": "4b05420c-18fd-4f57-8687-3c004cfac99a"
      },
      "source": [
        "print(f\"Percentage of steps where made a new trade: {round((sum(test_results['agent_trade'].astype(bool))/len(test_results['agent_trade']))*100,2)} %\")"
      ],
      "execution_count": null,
      "outputs": [
        {
          "output_type": "stream",
          "text": [
            "Percentage of steps where made a new trade: 0.14 %\n"
          ],
          "name": "stdout"
        }
      ]
    },
    {
      "cell_type": "markdown",
      "metadata": {
        "id": "4IHlea7OxANP"
      },
      "source": [
        "To address the agent's generalization skill and check whether the DDQN agent was overfitting the data, we let the agent trade against the market and a random policy on the hold out test set of Bitcoin's hourly price from approximately March 2020 to April 2021. From the above figure we see that the agent had chosen to follow a buy-and-hold strategy with very few trades implemented (traded on 0.14% of the training episode steps). It should be noted in subsequent implementations, the agent may not always find this same strategy. \n",
        "\n",
        "\n",
        "On initial reflection, it may appear that the agent had learnt to always implement a buy-and-hold strategy to maximise returns, which is consistent with the agent’s moving average NAV returns increasing to the market level during training, as seen before. However, if this where the case, then the agent would never ‘win’ the market, as it follows the market with an initial trading cost of taking the initial buy-and-hold position. Therefore, a policy of taking a buy-and-hold position in each training episode is inconsistent with the increased win ratio the agent is experiencing throughout training. Thus, the agent appears to utilise other strategies, besides a buy-and-hold, at least during training. \n",
        "\n",
        "\n",
        "During the the testing time series period from March 2020 and April 2021, Bitcoin's price had behaved extremely unconventionally, even in the cryptocurrency's own standards. The cryptocurrency saw an appreciation from approximately USD 10,000  to approximately USD 50,000. Therefore, it is unsurprising that a buy-and-hold strategy is adopted by the agent for the testing period. Perhaps in an environment where the price is volatile, but does not display an upwards trend, we would observe the trading agent conduct more trades and seek to profit from the price volatility. To test for such behaviour, one could use forward chaining k-fold cross validation. With this approach we could obtain multiple point estimates of the performance metrics over some folds which do not display any clear upwards price trend. Furthermore, to encourage active trading behaviour, which exploits the price volatility and not the upwards trend, one could implement another holding cost for not implementing a trade during a time step.\n",
        "\n",
        "\n",
        "It is difficult to assess whether the agent has overfit on the training data by merely memorizing past seen market environments, as we have only one time series realization of the test set. Again, it would be beneficial to use forward chaining k-fold validation to get multiple point estimates of performance which we could use to compare against training performance. Such forward chaining k-fold validation would obviously increase the running time. To reduce the number of epochs required for k-fold validation and stabilise the network learning process, we could have normalized the data. If there is evidence of overfitting, we may increase the Dropout rate parameter as well as decrease the number of technical indicators. \n",
        "\n",
        "\n",
        "As our agent was not able to consistently beat the market return, the results are consistent with the weak form of the Efficient Market hypothesis, stipulating that past returns yield no signal towards future returns. It is important to note that this outcome merely fails to disprove the Efficient Market Hypothesis, but does not confirm its existence. Perhaps an alternative configuration of parameters, network architecture or new technical indicators would result in a trading agent outperforming the market on a risk adjusted basis. Or alternatively, the degree to which the EMH applies to the BTC/USD market varies throughout time, as noted to occur with stocks by Byrd and Balch [11]. Our results presented are inconclusive as to whether the BTC/USD operates according to the Efficient Market Hypothesis.\n",
        "\n"
      ]
    },
    {
      "cell_type": "markdown",
      "metadata": {
        "id": "PQGNNAUfEB1f"
      },
      "source": [
        "## 4. Conclusion"
      ]
    },
    {
      "cell_type": "markdown",
      "metadata": {
        "id": "X4plflzXyima"
      },
      "source": [
        "By building a Double Deep Q-learning trading agent in the BTC/USD market, and investigating if consistently over-performing the market is possible, we explore whether the EMH holds for this largely retail investor driven market. Our trading agent is shown to improve it's average performance with increased training episodes and reaches Net Asset Value returns close to the buy-and-hold strategy during training. \n",
        "When testing the agent, we find that the optimal strategy implemented by the agent is indeed the buy-and-hold strategy and therefore, our analysis does not demonstrate evidence against the EMH. It is important to note that this outcome merely fails to disprove the Efficient Market Hypothesis. Perhaps an alternative configuration of parameters, network architecture or new technical indicators would result in a trading agent outperforming the market on a risk adjusted basis. Moreover, the result is limited due to the fact that the testing time series data incorporated an unusual period of an upward trend in Bitcoin’s price. To further extend the analysis, one may implement forward chaining k-fold validation and as such test on alternative periods not characterised by such a strong upwards trend. In addition, data normalisation could be implemented to speed up the increased running time of k-fold validation. Such a validation technique would allow for a more accurate diagnosis of overfitting as well. The agent can be also further enhanced by allowing for continuous values of the proportion of the portfolio to be placed on a trade. A larger difference in estimated state-action values corresponds to a more 'confident' assessment of the future, which may be translated into larger trading position taken. "
      ]
    },
    {
      "cell_type": "markdown",
      "metadata": {
        "id": "wHK78NvAEEBN"
      },
      "source": [
        "## 5. References"
      ]
    },
    {
      "cell_type": "markdown",
      "metadata": {
        "id": "Qd1xNbtKJ4r9"
      },
      "source": [
        "[1] Samuelson, Paul (1965), \"Proof That Properly Anticipated Prices Fluctuate Randomly\". Industrial Management Review. 6: 41–49\n",
        "\n",
        "[2] Fama, Eugene (1965), \"The Behavior of Stock Market Prices\". Journal of Business. 38: 34–105\n",
        "\n",
        "[3] Fama, Eugene (1970), \"Efficient Capital Markets: A Review of Theory and Empirical Work\". Journal of Finance. 25 (2)\n",
        "\n",
        "[4] Marwala, Tshilidzi; Hurwitz, Evan (2017) Artificial Intelligence and Economic Theory: Skynet in the Market. London: Springer\n",
        "\n",
        "[5] Stefan Jansen - Machine Learning for Algorithmic Trading 2nd Edition, Packt\n",
        "\n",
        "[6] Crypto Data Download, https://www.cryptodatadownload.com/data/binance/).\n",
        "\n",
        "[7] Chris Watkins, Learning from Delayed Rewards, 1989 http://www.cs.rhul.ac.uk/~chrisw/new_thesis.pdf\n",
        "\n",
        "[8] Mnih, Volodymyr; et al. (December 2013). Playing Atari with Deep Reinforcement Learning (PDF). NIPS Deep Learning Workshop 2013.\n",
        "\n",
        "[9] Hessel et al 2017 'Rainbow: Combining Improvements in Deep Reinforcement Learning' https://arxiv.org/pdf/1710.02298.pdf\n",
        "\n",
        "[10] van Hasselt, Hado; Guez, Arthur; Silver, David (2015). \"Deep reinforcement learning with double Q-learning\" (PDF). AAAI Conference on Artificial Intelligence: 2094–2100. \n",
        "\n",
        "[11] David Byrd, Tucker Hybinette Balch (2019). \"Intra-day Equity Price Prediction using Deep Learning as a Measure of Market Efficiency\", In journal submission"
      ]
    }
  ]
}
